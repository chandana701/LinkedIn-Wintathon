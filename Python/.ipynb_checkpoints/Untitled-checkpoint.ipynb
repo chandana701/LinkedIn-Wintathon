{
 "cells": [
  {
   "cell_type": "code",
   "execution_count": 58,
   "metadata": {
    "collapsed": true
   },
   "outputs": [],
   "source": [
    "from flask import Flask, request\n",
    "from flask_cors import CORS, cross_origin\n",
    "from flask_restful import Resource, Api\n",
    "from json import dumps\n",
    "from flask_jsonpify import jsonify\n",
    "import json\n",
    "import pymongo\n",
    "import urllib\n",
    "from collections import Counter\n",
    "import requests\n",
    "import time\n",
    "import cryptography\n",
    "import jwt\n",
    "from flask_swagger_ui import get_swaggerui_blueprint"
   ]
  },
  {
   "cell_type": "code",
   "execution_count": 59,
   "metadata": {},
   "outputs": [],
   "source": [
    "data= {\n",
    "        \"collage\":{\n",
    "            \"type\": \"text\",\n",
    "            \"data\":{\n",
    "                \"Indian Institute Of Technolgy\" : 0,\n",
    "                \"National Institute Of Technolgy\" : 0,\n",
    "                \"Birla Institute of Technology\": 0 , \n",
    "            }\n",
    "          },\n",
    "    \"salary\":{\n",
    "        \"type\": \"number\",\n",
    "        \"data\":[\n",
    "        {\"from\" : 0,\n",
    "        \"to\":0,\n",
    "        \"value\":\"\"\n",
    "        }\n",
    "        ]\n",
    "    }\n",
    "\n",
    "}"
   ]
  },
  {
   "cell_type": "code",
   "execution_count": 68,
   "metadata": {},
   "outputs": [
    {
     "data": {
      "text/plain": [
       "<flask_cors.extension.CORS at 0x103476610>"
      ]
     },
     "execution_count": 68,
     "metadata": {},
     "output_type": "execute_result"
    }
   ],
   "source": [
    "app = Flask(__name__)\n",
    "api = Api(app)\n",
    "CORS(app)"
   ]
  },
  {
   "cell_type": "code",
   "execution_count": 69,
   "metadata": {},
   "outputs": [],
   "source": [
    "@app.route(\"/hello\")\n",
    "def hello():\n",
    "    return jsonify({'text':'Hello World!'})"
   ]
  },
  {
   "cell_type": "code",
   "execution_count": 70,
   "metadata": {},
   "outputs": [],
   "source": [
    "@app.route(\"/getMetric\",methods=['GET'])\n",
    "def getMetric():\n",
    "    return  jsonify({'data':data})\n",
    "\n",
    "\n",
    "@app.route(\"/saveMetric\",methods=['POST'])\n",
    "def saveMetricData():\n",
    "    params=request.get_json(silent=True)\n",
    "    print(params[\"data\"])\n",
    "    return  jsonify({'response':'Metric saved successfully'})"
   ]
  },
  {
   "cell_type": "code",
   "execution_count": null,
   "metadata": {},
   "outputs": [
    {
     "name": "stdout",
     "output_type": "stream",
     "text": [
      " * Serving Flask app \"__main__\" (lazy loading)\n",
      " * Environment: production\n",
      "   WARNING: This is a development server. Do not use it in a production deployment.\n",
      "   Use a production WSGI server instead.\n",
      " * Debug mode: off\n"
     ]
    },
    {
     "name": "stderr",
     "output_type": "stream",
     "text": [
      " * Running on http://127.0.0.1:5005/ (Press CTRL+C to quit)\n",
      "127.0.0.1 - - [18/Jan/2020 14:28:08] \"POST /saveMetric HTTP/1.1\" 200 -\n"
     ]
    },
    {
     "name": "stdout",
     "output_type": "stream",
     "text": [
      "None\n"
     ]
    },
    {
     "name": "stderr",
     "output_type": "stream",
     "text": [
      "127.0.0.1 - - [18/Jan/2020 14:28:37] \"GET /getMetric HTTP/1.1\" 200 -\n",
      "127.0.0.1 - - [18/Jan/2020 14:28:46] \"OPTIONS /saveMetric HTTP/1.1\" 200 -\n",
      "127.0.0.1 - - [18/Jan/2020 14:28:46] \"POST /saveMetric HTTP/1.1\" 200 -\n"
     ]
    },
    {
     "name": "stdout",
     "output_type": "stream",
     "text": [
      "{u'data': {u'collage': {u'type': u'text', u'data': {u'National Institute Of Technolgy': 0, u'Birla Institute of Technology': 0, u'Indian Institute Of Technolgy': 0}}, u'salary': {u'type': u'number', u'data': [{u'to': 0, u'from': u'1', u'value': u''}]}}}\n"
     ]
    }
   ],
   "source": [
    "if __name__ == '__main__':\n",
    "   app.run(port=5005)"
   ]
  },
  {
   "cell_type": "code",
   "execution_count": null,
   "metadata": {
    "collapsed": true
   },
   "outputs": [],
   "source": []
  }
 ],
 "metadata": {
  "kernelspec": {
   "display_name": "Python 2",
   "language": "python",
   "name": "python2"
  },
  "language_info": {
   "codemirror_mode": {
    "name": "ipython",
    "version": 2
   },
   "file_extension": ".py",
   "mimetype": "text/x-python",
   "name": "python",
   "nbconvert_exporter": "python",
   "pygments_lexer": "ipython2",
   "version": "2.7.15"
  }
 },
 "nbformat": 4,
 "nbformat_minor": 2
}
