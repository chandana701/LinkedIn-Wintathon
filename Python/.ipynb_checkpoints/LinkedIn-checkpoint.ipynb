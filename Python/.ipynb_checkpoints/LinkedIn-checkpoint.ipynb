{
 "cells": [
  {
   "cell_type": "code",
   "execution_count": 19,
   "metadata": {
    "collapsed": true
   },
   "outputs": [],
   "source": [
    "from flask import Flask, request\n",
    "from flask_cors import CORS, cross_origin\n",
    "from flask_restful import Resource, Api\n",
    "from json import dumps\n",
    "from flask_jsonpify import jsonify\n",
    "import json\n",
    "from collections import Counter\n",
    "import requests\n",
    "import os"
   ]
  },
  {
   "cell_type": "code",
   "execution_count": 14,
   "metadata": {},
   "outputs": [
    {
     "data": {
      "text/plain": [
       "<flask_cors.extension.CORS at 0x10f4ac2d0>"
      ]
     },
     "execution_count": 14,
     "metadata": {},
     "output_type": "execute_result"
    }
   ],
   "source": [
    "app = Flask(__name__)\n",
    "api = Api(app)\n",
    "CORS(app)"
   ]
  },
  {
   "cell_type": "code",
   "execution_count": 15,
   "metadata": {
    "collapsed": true
   },
   "outputs": [],
   "source": [
    "@app.route(\"/hello\")\n",
    "def hello():\n",
    "    return jsonify({'text':'Hello World!'})"
   ]
  },
  {
   "cell_type": "code",
   "execution_count": 16,
   "metadata": {
    "collapsed": true
   },
   "outputs": [],
   "source": [
    "@app.route(\"/getMetric\",methods=['GET'])\n",
    "def getMetric():\n",
    "    with open(\"./metric.json\") as f:\n",
    "        data=json.load(f)\n",
    "    return  jsonify({'data':data})\n",
    "\n",
    "\n",
    "@app.route(\"/saveMetric\",methods=['POST'])\n",
    "def saveMetricData():\n",
    "    params=request.get_json(silent=True)\n",
    "    print(params[\"data\"])\n",
    "    with open(\"./metric.json\",'w') as f:\n",
    "        result=json.dump(params[\"data\"],f)\n",
    "    \n",
    "    return  jsonify({'response':'Metric saved successfully'})\n",
    "\n",
    "@app.route(\"/getAllUsers\",methods=['POST'])\n",
    "def getAllUsers():\n",
    "    finalData=[]\n",
    "    for username in os.listdir('./Users/'):\n",
    "        if( \".json\" in username):\n",
    "            with open(\"./Users/\"+username) as f:\n",
    "                data=json.load(f)\n",
    "\n",
    "            val={\n",
    "                \"name\":data['general']['name'],\n",
    "                \"company\":data['general'][\"company\"],\n",
    "                \"salary\" :data['general'][\"salary\"],\n",
    "                \"score\" : 100\n",
    "            }\n",
    "            finalData.append(val)\n",
    "    \n",
    "    return  jsonify({'userProfile':finalData})\n",
    "\n",
    "@app.route(\"/getUser\",methods=['POST'])\n",
    "def getUser():\n",
    "    params=request.get_json(silent=True)\n",
    "    username=params[\"userName\"]\n",
    "    try:\n",
    "        print(username)\n",
    "        with open(\"./Users/\"+username+\".json\") as f:\n",
    "            data=json.load(f)\n",
    "        \n",
    "        return  jsonify({'userProfile':data})\n",
    "    except:\n",
    "        return jsonify({'userProfile':{}}),400"
   ]
  },
  {
   "cell_type": "code",
   "execution_count": 17,
   "metadata": {
    "scrolled": true
   },
   "outputs": [
    {
     "name": "stdout",
     "output_type": "stream",
     "text": [
      " * Serving Flask app \"__main__\" (lazy loading)\n",
      " * Environment: production\n",
      "   WARNING: This is a development server. Do not use it in a production deployment.\n",
      "   Use a production WSGI server instead.\n",
      " * Debug mode: off\n"
     ]
    },
    {
     "name": "stderr",
     "output_type": "stream",
     "text": [
      " * Running on http://127.0.0.1:5005/ (Press CTRL+C to quit)\n",
      "127.0.0.1 - - [18/Jan/2020 19:38:10] \"OPTIONS /getUser HTTP/1.1\" 200 -\n",
      "127.0.0.1 - - [18/Jan/2020 19:38:10] \"POST /getUser HTTP/1.1\" 200 -\n"
     ]
    },
    {
     "name": "stdout",
     "output_type": "stream",
     "text": [
      "Mounika\n"
     ]
    },
    {
     "name": "stderr",
     "output_type": "stream",
     "text": [
      "127.0.0.1 - - [18/Jan/2020 19:38:14] \"POST /getUser HTTP/1.1\" 200 -\n"
     ]
    },
    {
     "name": "stdout",
     "output_type": "stream",
     "text": [
      "Mounika\n"
     ]
    },
    {
     "name": "stderr",
     "output_type": "stream",
     "text": [
      "127.0.0.1 - - [18/Jan/2020 19:38:19] \"OPTIONS /getUser HTTP/1.1\" 200 -\n",
      "127.0.0.1 - - [18/Jan/2020 19:38:20] \"POST /getUser HTTP/1.1\" 200 -\n"
     ]
    },
    {
     "name": "stdout",
     "output_type": "stream",
     "text": [
      "Mounika\n"
     ]
    },
    {
     "name": "stderr",
     "output_type": "stream",
     "text": [
      "127.0.0.1 - - [18/Jan/2020 19:40:39] \"OPTIONS /getUser HTTP/1.1\" 200 -\n",
      "127.0.0.1 - - [18/Jan/2020 19:40:39] \"POST /getUser HTTP/1.1\" 200 -\n"
     ]
    },
    {
     "name": "stdout",
     "output_type": "stream",
     "text": [
      "Mounika\n"
     ]
    },
    {
     "name": "stderr",
     "output_type": "stream",
     "text": [
      "127.0.0.1 - - [18/Jan/2020 19:44:52] \"OPTIONS /getUser HTTP/1.1\" 200 -\n",
      "127.0.0.1 - - [18/Jan/2020 19:44:53] \"POST /getUser HTTP/1.1\" 200 -\n"
     ]
    },
    {
     "name": "stdout",
     "output_type": "stream",
     "text": [
      "Mounika\n"
     ]
    },
    {
     "name": "stderr",
     "output_type": "stream",
     "text": [
      "127.0.0.1 - - [18/Jan/2020 19:45:27] \"OPTIONS /getUser HTTP/1.1\" 200 -\n",
      "127.0.0.1 - - [18/Jan/2020 19:45:28] \"POST /getUser HTTP/1.1\" 200 -\n"
     ]
    },
    {
     "name": "stdout",
     "output_type": "stream",
     "text": [
      "Mounika\n"
     ]
    },
    {
     "name": "stderr",
     "output_type": "stream",
     "text": [
      "127.0.0.1 - - [18/Jan/2020 19:45:45] \"OPTIONS /getUser HTTP/1.1\" 200 -\n",
      "127.0.0.1 - - [18/Jan/2020 19:45:45] \"POST /getUser HTTP/1.1\" 200 -\n"
     ]
    },
    {
     "name": "stdout",
     "output_type": "stream",
     "text": [
      "Mounika\n"
     ]
    },
    {
     "name": "stderr",
     "output_type": "stream",
     "text": [
      "127.0.0.1 - - [18/Jan/2020 19:46:02] \"OPTIONS /getUser HTTP/1.1\" 200 -\n",
      "127.0.0.1 - - [18/Jan/2020 19:46:02] \"POST /getUser HTTP/1.1\" 200 -\n"
     ]
    },
    {
     "name": "stdout",
     "output_type": "stream",
     "text": [
      "Mounika\n"
     ]
    },
    {
     "name": "stderr",
     "output_type": "stream",
     "text": [
      "127.0.0.1 - - [18/Jan/2020 19:46:20] \"OPTIONS /getUser HTTP/1.1\" 200 -\n",
      "127.0.0.1 - - [18/Jan/2020 19:46:20] \"POST /getUser HTTP/1.1\" 200 -\n"
     ]
    },
    {
     "name": "stdout",
     "output_type": "stream",
     "text": [
      "Mounika\n"
     ]
    },
    {
     "name": "stderr",
     "output_type": "stream",
     "text": [
      "127.0.0.1 - - [18/Jan/2020 19:48:22] \"OPTIONS /getUser HTTP/1.1\" 200 -\n",
      "127.0.0.1 - - [18/Jan/2020 19:48:22] \"POST /getUser HTTP/1.1\" 200 -\n"
     ]
    },
    {
     "name": "stdout",
     "output_type": "stream",
     "text": [
      "Mounika\n"
     ]
    },
    {
     "name": "stderr",
     "output_type": "stream",
     "text": [
      "127.0.0.1 - - [18/Jan/2020 19:49:29] \"OPTIONS /getUser HTTP/1.1\" 200 -\n",
      "127.0.0.1 - - [18/Jan/2020 19:49:30] \"POST /getUser HTTP/1.1\" 200 -\n"
     ]
    },
    {
     "name": "stdout",
     "output_type": "stream",
     "text": [
      "Mounika\n"
     ]
    },
    {
     "name": "stderr",
     "output_type": "stream",
     "text": [
      "127.0.0.1 - - [18/Jan/2020 19:49:32] \"POST /getUser HTTP/1.1\" 200 -\n"
     ]
    },
    {
     "name": "stdout",
     "output_type": "stream",
     "text": [
      "Mounika\n"
     ]
    },
    {
     "name": "stderr",
     "output_type": "stream",
     "text": [
      "127.0.0.1 - - [18/Jan/2020 19:50:13] \"OPTIONS /getUser HTTP/1.1\" 200 -\n",
      "127.0.0.1 - - [18/Jan/2020 19:50:13] \"POST /getUser HTTP/1.1\" 200 -\n"
     ]
    },
    {
     "name": "stdout",
     "output_type": "stream",
     "text": [
      "Mounika\n"
     ]
    },
    {
     "name": "stderr",
     "output_type": "stream",
     "text": [
      "127.0.0.1 - - [18/Jan/2020 19:50:19] \"OPTIONS /getUser HTTP/1.1\" 200 -\n",
      "127.0.0.1 - - [18/Jan/2020 19:50:19] \"POST /getUser HTTP/1.1\" 200 -\n"
     ]
    },
    {
     "name": "stdout",
     "output_type": "stream",
     "text": [
      "Mounika\n"
     ]
    },
    {
     "name": "stderr",
     "output_type": "stream",
     "text": [
      "127.0.0.1 - - [18/Jan/2020 19:50:28] \"OPTIONS /getUser HTTP/1.1\" 200 -\n",
      "127.0.0.1 - - [18/Jan/2020 19:50:28] \"POST /getUser HTTP/1.1\" 200 -\n"
     ]
    },
    {
     "name": "stdout",
     "output_type": "stream",
     "text": [
      "Mounika\n"
     ]
    },
    {
     "name": "stderr",
     "output_type": "stream",
     "text": [
      "127.0.0.1 - - [18/Jan/2020 19:51:19] \"OPTIONS /getUser HTTP/1.1\" 200 -\n",
      "127.0.0.1 - - [18/Jan/2020 19:51:19] \"POST /getUser HTTP/1.1\" 200 -\n"
     ]
    },
    {
     "name": "stdout",
     "output_type": "stream",
     "text": [
      "Mounika\n"
     ]
    },
    {
     "name": "stderr",
     "output_type": "stream",
     "text": [
      "127.0.0.1 - - [18/Jan/2020 19:51:52] \"OPTIONS /getUser HTTP/1.1\" 200 -\n",
      "127.0.0.1 - - [18/Jan/2020 19:51:53] \"POST /getUser HTTP/1.1\" 200 -\n"
     ]
    },
    {
     "name": "stdout",
     "output_type": "stream",
     "text": [
      "Mounika\n"
     ]
    },
    {
     "name": "stderr",
     "output_type": "stream",
     "text": [
      "127.0.0.1 - - [18/Jan/2020 19:52:29] \"OPTIONS /getUser HTTP/1.1\" 200 -\n",
      "127.0.0.1 - - [18/Jan/2020 19:52:29] \"POST /getUser HTTP/1.1\" 200 -\n"
     ]
    },
    {
     "name": "stdout",
     "output_type": "stream",
     "text": [
      "Mounika\n"
     ]
    },
    {
     "name": "stderr",
     "output_type": "stream",
     "text": [
      "127.0.0.1 - - [18/Jan/2020 19:53:29] \"OPTIONS /getUser HTTP/1.1\" 200 -\n",
      "127.0.0.1 - - [18/Jan/2020 19:53:29] \"POST /getUser HTTP/1.1\" 200 -\n"
     ]
    },
    {
     "name": "stdout",
     "output_type": "stream",
     "text": [
      "Mounika\n"
     ]
    },
    {
     "name": "stderr",
     "output_type": "stream",
     "text": [
      "127.0.0.1 - - [18/Jan/2020 19:54:08] \"OPTIONS /getUser HTTP/1.1\" 200 -\n",
      "127.0.0.1 - - [18/Jan/2020 19:54:08] \"POST /getUser HTTP/1.1\" 200 -\n"
     ]
    },
    {
     "name": "stdout",
     "output_type": "stream",
     "text": [
      "Mounika\n"
     ]
    },
    {
     "name": "stderr",
     "output_type": "stream",
     "text": [
      "127.0.0.1 - - [18/Jan/2020 19:54:30] \"OPTIONS /getUser HTTP/1.1\" 200 -\n",
      "127.0.0.1 - - [18/Jan/2020 19:54:30] \"POST /getUser HTTP/1.1\" 200 -\n"
     ]
    },
    {
     "name": "stdout",
     "output_type": "stream",
     "text": [
      "Mounika\n"
     ]
    },
    {
     "name": "stderr",
     "output_type": "stream",
     "text": [
      "127.0.0.1 - - [18/Jan/2020 19:54:32] \"POST /getUser HTTP/1.1\" 200 -\n"
     ]
    },
    {
     "name": "stdout",
     "output_type": "stream",
     "text": [
      "Mounika\n"
     ]
    },
    {
     "name": "stderr",
     "output_type": "stream",
     "text": [
      "127.0.0.1 - - [18/Jan/2020 19:55:01] \"OPTIONS /getUser HTTP/1.1\" 200 -\n",
      "127.0.0.1 - - [18/Jan/2020 19:55:01] \"POST /getUser HTTP/1.1\" 200 -\n"
     ]
    },
    {
     "name": "stdout",
     "output_type": "stream",
     "text": [
      "Mounika\n"
     ]
    },
    {
     "name": "stderr",
     "output_type": "stream",
     "text": [
      "127.0.0.1 - - [18/Jan/2020 19:55:26] \"OPTIONS /getUser HTTP/1.1\" 200 -\n",
      "127.0.0.1 - - [18/Jan/2020 19:55:26] \"POST /getUser HTTP/1.1\" 200 -\n"
     ]
    },
    {
     "name": "stdout",
     "output_type": "stream",
     "text": [
      "Mounika\n"
     ]
    },
    {
     "name": "stderr",
     "output_type": "stream",
     "text": [
      "127.0.0.1 - - [18/Jan/2020 19:56:34] \"OPTIONS /getUser HTTP/1.1\" 200 -\n",
      "127.0.0.1 - - [18/Jan/2020 19:56:34] \"POST /getUser HTTP/1.1\" 200 -\n"
     ]
    },
    {
     "name": "stdout",
     "output_type": "stream",
     "text": [
      "Mounika\n"
     ]
    },
    {
     "name": "stderr",
     "output_type": "stream",
     "text": [
      "127.0.0.1 - - [18/Jan/2020 19:56:45] \"OPTIONS /getUser HTTP/1.1\" 200 -\n",
      "127.0.0.1 - - [18/Jan/2020 19:56:46] \"POST /getUser HTTP/1.1\" 200 -\n"
     ]
    },
    {
     "name": "stdout",
     "output_type": "stream",
     "text": [
      "Mounika\n"
     ]
    },
    {
     "name": "stderr",
     "output_type": "stream",
     "text": [
      "127.0.0.1 - - [18/Jan/2020 19:57:26] \"OPTIONS /getUser HTTP/1.1\" 200 -\n",
      "127.0.0.1 - - [18/Jan/2020 19:57:26] \"POST /getUser HTTP/1.1\" 200 -\n"
     ]
    },
    {
     "name": "stdout",
     "output_type": "stream",
     "text": [
      "Mounika\n"
     ]
    },
    {
     "name": "stderr",
     "output_type": "stream",
     "text": [
      "127.0.0.1 - - [18/Jan/2020 19:57:41] \"OPTIONS /getUser HTTP/1.1\" 200 -\n",
      "127.0.0.1 - - [18/Jan/2020 19:57:41] \"POST /getUser HTTP/1.1\" 200 -\n"
     ]
    },
    {
     "name": "stdout",
     "output_type": "stream",
     "text": [
      "Mounika\n"
     ]
    },
    {
     "name": "stderr",
     "output_type": "stream",
     "text": [
      "127.0.0.1 - - [18/Jan/2020 19:57:59] \"OPTIONS /getUser HTTP/1.1\" 200 -\n",
      "127.0.0.1 - - [18/Jan/2020 19:57:59] \"POST /getUser HTTP/1.1\" 200 -\n"
     ]
    },
    {
     "name": "stdout",
     "output_type": "stream",
     "text": [
      "Mounika\n"
     ]
    },
    {
     "name": "stderr",
     "output_type": "stream",
     "text": [
      "127.0.0.1 - - [18/Jan/2020 19:58:32] \"OPTIONS /getUser HTTP/1.1\" 200 -\n",
      "127.0.0.1 - - [18/Jan/2020 19:58:32] \"POST /getUser HTTP/1.1\" 200 -\n"
     ]
    },
    {
     "name": "stdout",
     "output_type": "stream",
     "text": [
      "Mounika\n"
     ]
    },
    {
     "name": "stderr",
     "output_type": "stream",
     "text": [
      "127.0.0.1 - - [18/Jan/2020 19:58:44] \"OPTIONS /getUser HTTP/1.1\" 200 -\n",
      "127.0.0.1 - - [18/Jan/2020 19:58:44] \"POST /getUser HTTP/1.1\" 200 -\n"
     ]
    },
    {
     "name": "stdout",
     "output_type": "stream",
     "text": [
      "Mounika\n"
     ]
    },
    {
     "name": "stderr",
     "output_type": "stream",
     "text": [
      "127.0.0.1 - - [18/Jan/2020 19:59:33] \"OPTIONS /getUser HTTP/1.1\" 200 -\n",
      "127.0.0.1 - - [18/Jan/2020 19:59:33] \"POST /getUser HTTP/1.1\" 200 -\n"
     ]
    },
    {
     "name": "stdout",
     "output_type": "stream",
     "text": [
      "Mounika\n"
     ]
    },
    {
     "name": "stderr",
     "output_type": "stream",
     "text": [
      "127.0.0.1 - - [18/Jan/2020 20:01:51] \"OPTIONS /getUser HTTP/1.1\" 200 -\n",
      "127.0.0.1 - - [18/Jan/2020 20:01:52] \"POST /getUser HTTP/1.1\" 200 -\n"
     ]
    },
    {
     "name": "stdout",
     "output_type": "stream",
     "text": [
      "Mounika\n"
     ]
    },
    {
     "name": "stderr",
     "output_type": "stream",
     "text": [
      "127.0.0.1 - - [18/Jan/2020 20:02:20] \"OPTIONS /getUser HTTP/1.1\" 200 -\n",
      "127.0.0.1 - - [18/Jan/2020 20:02:20] \"POST /getUser HTTP/1.1\" 200 -\n"
     ]
    },
    {
     "name": "stdout",
     "output_type": "stream",
     "text": [
      "Mounika\n"
     ]
    },
    {
     "name": "stderr",
     "output_type": "stream",
     "text": [
      "127.0.0.1 - - [18/Jan/2020 20:03:13] \"OPTIONS /getUser HTTP/1.1\" 200 -\n",
      "127.0.0.1 - - [18/Jan/2020 20:03:14] \"POST /getUser HTTP/1.1\" 200 -\n"
     ]
    },
    {
     "name": "stdout",
     "output_type": "stream",
     "text": [
      "Mounika\n"
     ]
    },
    {
     "name": "stderr",
     "output_type": "stream",
     "text": [
      "127.0.0.1 - - [18/Jan/2020 20:07:14] \"OPTIONS /getUser HTTP/1.1\" 200 -\n",
      "127.0.0.1 - - [18/Jan/2020 20:07:14] \"POST /getUser HTTP/1.1\" 200 -\n"
     ]
    },
    {
     "name": "stdout",
     "output_type": "stream",
     "text": [
      "Mounika\n"
     ]
    },
    {
     "name": "stderr",
     "output_type": "stream",
     "text": [
      "127.0.0.1 - - [18/Jan/2020 20:08:21] \"OPTIONS /getUser HTTP/1.1\" 200 -\n",
      "127.0.0.1 - - [18/Jan/2020 20:08:21] \"POST /getUser HTTP/1.1\" 200 -\n"
     ]
    },
    {
     "name": "stdout",
     "output_type": "stream",
     "text": [
      "Mounika\n"
     ]
    },
    {
     "name": "stderr",
     "output_type": "stream",
     "text": [
      "127.0.0.1 - - [18/Jan/2020 20:08:47] \"OPTIONS /getUser HTTP/1.1\" 200 -\n",
      "127.0.0.1 - - [18/Jan/2020 20:08:47] \"POST /getUser HTTP/1.1\" 200 -\n"
     ]
    },
    {
     "name": "stdout",
     "output_type": "stream",
     "text": [
      "Mounika\n"
     ]
    },
    {
     "name": "stderr",
     "output_type": "stream",
     "text": [
      "127.0.0.1 - - [18/Jan/2020 20:08:55] \"OPTIONS /getUser HTTP/1.1\" 200 -\n",
      "127.0.0.1 - - [18/Jan/2020 20:08:55] \"POST /getUser HTTP/1.1\" 200 -\n"
     ]
    },
    {
     "name": "stdout",
     "output_type": "stream",
     "text": [
      "Mounika\n"
     ]
    },
    {
     "name": "stderr",
     "output_type": "stream",
     "text": [
      "127.0.0.1 - - [18/Jan/2020 20:10:16] \"OPTIONS /getUser HTTP/1.1\" 200 -\n",
      "127.0.0.1 - - [18/Jan/2020 20:10:16] \"POST /getUser HTTP/1.1\" 200 -\n"
     ]
    },
    {
     "name": "stdout",
     "output_type": "stream",
     "text": [
      "Mounika\n"
     ]
    },
    {
     "name": "stderr",
     "output_type": "stream",
     "text": [
      "127.0.0.1 - - [18/Jan/2020 20:10:26] \"OPTIONS /getUser HTTP/1.1\" 200 -\n",
      "127.0.0.1 - - [18/Jan/2020 20:10:26] \"POST /getUser HTTP/1.1\" 200 -\n"
     ]
    },
    {
     "name": "stdout",
     "output_type": "stream",
     "text": [
      "Mounika\n"
     ]
    },
    {
     "name": "stderr",
     "output_type": "stream",
     "text": [
      "127.0.0.1 - - [18/Jan/2020 20:10:40] \"OPTIONS /getUser HTTP/1.1\" 200 -\n",
      "127.0.0.1 - - [18/Jan/2020 20:10:40] \"POST /getUser HTTP/1.1\" 200 -\n"
     ]
    },
    {
     "name": "stdout",
     "output_type": "stream",
     "text": [
      "Mounika\n"
     ]
    },
    {
     "name": "stderr",
     "output_type": "stream",
     "text": [
      "127.0.0.1 - - [18/Jan/2020 20:12:08] \"OPTIONS /getUser HTTP/1.1\" 200 -\n",
      "127.0.0.1 - - [18/Jan/2020 20:12:08] \"POST /getUser HTTP/1.1\" 200 -\n"
     ]
    },
    {
     "name": "stdout",
     "output_type": "stream",
     "text": [
      "Mounika\n"
     ]
    },
    {
     "name": "stderr",
     "output_type": "stream",
     "text": [
      "127.0.0.1 - - [18/Jan/2020 20:12:15] \"OPTIONS /getUser HTTP/1.1\" 200 -\n",
      "127.0.0.1 - - [18/Jan/2020 20:12:15] \"POST /getUser HTTP/1.1\" 200 -\n"
     ]
    },
    {
     "name": "stdout",
     "output_type": "stream",
     "text": [
      "Mounika\n"
     ]
    },
    {
     "name": "stderr",
     "output_type": "stream",
     "text": [
      "127.0.0.1 - - [18/Jan/2020 20:12:53] \"OPTIONS /getUser HTTP/1.1\" 200 -\n",
      "127.0.0.1 - - [18/Jan/2020 20:12:53] \"POST /getUser HTTP/1.1\" 200 -\n"
     ]
    },
    {
     "name": "stdout",
     "output_type": "stream",
     "text": [
      "Mounika\n"
     ]
    },
    {
     "name": "stderr",
     "output_type": "stream",
     "text": [
      "127.0.0.1 - - [18/Jan/2020 20:13:03] \"OPTIONS /getUser HTTP/1.1\" 200 -\n",
      "127.0.0.1 - - [18/Jan/2020 20:13:03] \"POST /getUser HTTP/1.1\" 200 -\n"
     ]
    },
    {
     "name": "stdout",
     "output_type": "stream",
     "text": [
      "Mounika\n"
     ]
    },
    {
     "name": "stderr",
     "output_type": "stream",
     "text": [
      "127.0.0.1 - - [18/Jan/2020 20:13:21] \"OPTIONS /getUser HTTP/1.1\" 200 -\n",
      "127.0.0.1 - - [18/Jan/2020 20:13:21] \"POST /getUser HTTP/1.1\" 200 -\n"
     ]
    },
    {
     "name": "stdout",
     "output_type": "stream",
     "text": [
      "Mounika\n"
     ]
    },
    {
     "name": "stderr",
     "output_type": "stream",
     "text": [
      "127.0.0.1 - - [18/Jan/2020 20:14:09] \"OPTIONS /getUser HTTP/1.1\" 200 -\n",
      "127.0.0.1 - - [18/Jan/2020 20:14:09] \"POST /getUser HTTP/1.1\" 200 -\n"
     ]
    },
    {
     "name": "stdout",
     "output_type": "stream",
     "text": [
      "Mounika\n"
     ]
    },
    {
     "name": "stderr",
     "output_type": "stream",
     "text": [
      "127.0.0.1 - - [18/Jan/2020 20:14:12] \"POST /getUser HTTP/1.1\" 200 -\n"
     ]
    },
    {
     "name": "stdout",
     "output_type": "stream",
     "text": [
      "Mounika\n"
     ]
    },
    {
     "name": "stderr",
     "output_type": "stream",
     "text": [
      "127.0.0.1 - - [18/Jan/2020 20:15:13] \"GET /getMetric HTTP/1.1\" 200 -\n",
      "127.0.0.1 - - [18/Jan/2020 20:15:17] \"OPTIONS /getUser HTTP/1.1\" 200 -\n",
      "127.0.0.1 - - [18/Jan/2020 20:15:17] \"POST /getUser HTTP/1.1\" 200 -\n"
     ]
    },
    {
     "name": "stdout",
     "output_type": "stream",
     "text": [
      "Mounika\n"
     ]
    },
    {
     "name": "stderr",
     "output_type": "stream",
     "text": [
      "127.0.0.1 - - [18/Jan/2020 20:21:24] \"GET /getMetric HTTP/1.1\" 200 -\n",
      "127.0.0.1 - - [18/Jan/2020 20:21:26] \"GET /getMetric HTTP/1.1\" 200 -\n",
      "127.0.0.1 - - [18/Jan/2020 20:21:28] \"OPTIONS /getUser HTTP/1.1\" 200 -\n",
      "127.0.0.1 - - [18/Jan/2020 20:21:28] \"POST /getUser HTTP/1.1\" 200 -\n"
     ]
    },
    {
     "name": "stdout",
     "output_type": "stream",
     "text": [
      "Mounika\n"
     ]
    },
    {
     "name": "stderr",
     "output_type": "stream",
     "text": [
      "127.0.0.1 - - [18/Jan/2020 20:23:02] \"GET /getMetric HTTP/1.1\" 200 -\n",
      "127.0.0.1 - - [18/Jan/2020 20:25:11] \"OPTIONS /getUser HTTP/1.1\" 200 -\n",
      "127.0.0.1 - - [18/Jan/2020 20:25:11] \"POST /getUser HTTP/1.1\" 200 -\n"
     ]
    },
    {
     "name": "stdout",
     "output_type": "stream",
     "text": [
      "Mounika\n"
     ]
    },
    {
     "name": "stderr",
     "output_type": "stream",
     "text": [
      "127.0.0.1 - - [18/Jan/2020 20:27:40] \"OPTIONS /getUser HTTP/1.1\" 200 -\n",
      "127.0.0.1 - - [18/Jan/2020 20:27:40] \"POST /getUser HTTP/1.1\" 400 -\n"
     ]
    },
    {
     "name": "stdout",
     "output_type": "stream",
     "text": [
      "Mounika\n"
     ]
    },
    {
     "name": "stderr",
     "output_type": "stream",
     "text": [
      "127.0.0.1 - - [18/Jan/2020 20:27:47] \"OPTIONS /getUser HTTP/1.1\" 200 -\n",
      "127.0.0.1 - - [18/Jan/2020 20:27:47] \"POST /getUser HTTP/1.1\" 400 -\n"
     ]
    },
    {
     "name": "stdout",
     "output_type": "stream",
     "text": [
      "Mounika\n"
     ]
    },
    {
     "name": "stderr",
     "output_type": "stream",
     "text": [
      "127.0.0.1 - - [18/Jan/2020 20:27:58] \"OPTIONS /getUser HTTP/1.1\" 200 -\n",
      "127.0.0.1 - - [18/Jan/2020 20:27:59] \"POST /getUser HTTP/1.1\" 400 -\n"
     ]
    },
    {
     "name": "stdout",
     "output_type": "stream",
     "text": [
      "Mounika\n"
     ]
    },
    {
     "name": "stderr",
     "output_type": "stream",
     "text": [
      "127.0.0.1 - - [18/Jan/2020 20:28:24] \"OPTIONS /getUser HTTP/1.1\" 200 -\n",
      "127.0.0.1 - - [18/Jan/2020 20:28:24] \"POST /getUser HTTP/1.1\" 200 -\n"
     ]
    },
    {
     "name": "stdout",
     "output_type": "stream",
     "text": [
      "Mounika\n"
     ]
    },
    {
     "name": "stderr",
     "output_type": "stream",
     "text": [
      "127.0.0.1 - - [18/Jan/2020 20:29:19] \"OPTIONS /getUser HTTP/1.1\" 200 -\n",
      "127.0.0.1 - - [18/Jan/2020 20:29:19] \"POST /getUser HTTP/1.1\" 200 -\n"
     ]
    },
    {
     "name": "stdout",
     "output_type": "stream",
     "text": [
      "Mounika\n"
     ]
    },
    {
     "name": "stderr",
     "output_type": "stream",
     "text": [
      "127.0.0.1 - - [18/Jan/2020 20:29:30] \"OPTIONS /getUser HTTP/1.1\" 200 -\n",
      "127.0.0.1 - - [18/Jan/2020 20:29:31] \"POST /getUser HTTP/1.1\" 200 -\n"
     ]
    },
    {
     "name": "stdout",
     "output_type": "stream",
     "text": [
      "Mounika\n"
     ]
    },
    {
     "name": "stderr",
     "output_type": "stream",
     "text": [
      "127.0.0.1 - - [18/Jan/2020 20:31:36] \"OPTIONS /getUser HTTP/1.1\" 200 -\n",
      "127.0.0.1 - - [18/Jan/2020 20:31:37] \"POST /getUser HTTP/1.1\" 200 -\n"
     ]
    },
    {
     "name": "stdout",
     "output_type": "stream",
     "text": [
      "Mounika\n"
     ]
    },
    {
     "name": "stderr",
     "output_type": "stream",
     "text": [
      "127.0.0.1 - - [18/Jan/2020 20:31:58] \"OPTIONS /getUser HTTP/1.1\" 200 -\n",
      "127.0.0.1 - - [18/Jan/2020 20:31:59] \"POST /getUser HTTP/1.1\" 200 -\n"
     ]
    },
    {
     "name": "stdout",
     "output_type": "stream",
     "text": [
      "Mounika\n"
     ]
    },
    {
     "name": "stderr",
     "output_type": "stream",
     "text": [
      "127.0.0.1 - - [18/Jan/2020 20:32:12] \"OPTIONS /getUser HTTP/1.1\" 200 -\n",
      "127.0.0.1 - - [18/Jan/2020 20:32:13] \"POST /getUser HTTP/1.1\" 200 -\n"
     ]
    },
    {
     "name": "stdout",
     "output_type": "stream",
     "text": [
      "Mounika\n"
     ]
    },
    {
     "name": "stderr",
     "output_type": "stream",
     "text": [
      "127.0.0.1 - - [18/Jan/2020 20:32:33] \"OPTIONS /getUser HTTP/1.1\" 200 -\n",
      "127.0.0.1 - - [18/Jan/2020 20:32:34] \"POST /getUser HTTP/1.1\" 200 -\n"
     ]
    },
    {
     "name": "stdout",
     "output_type": "stream",
     "text": [
      "Mounika\n"
     ]
    },
    {
     "name": "stderr",
     "output_type": "stream",
     "text": [
      "127.0.0.1 - - [18/Jan/2020 20:32:36] \"POST /getUser HTTP/1.1\" 200 -\n"
     ]
    },
    {
     "name": "stdout",
     "output_type": "stream",
     "text": [
      "Mounika\n"
     ]
    },
    {
     "name": "stderr",
     "output_type": "stream",
     "text": [
      "127.0.0.1 - - [18/Jan/2020 20:33:08] \"OPTIONS /getUser HTTP/1.1\" 200 -\n",
      "127.0.0.1 - - [18/Jan/2020 20:33:08] \"POST /getUser HTTP/1.1\" 200 -\n"
     ]
    },
    {
     "name": "stdout",
     "output_type": "stream",
     "text": [
      "Mounika\n"
     ]
    },
    {
     "name": "stderr",
     "output_type": "stream",
     "text": [
      "127.0.0.1 - - [18/Jan/2020 20:34:46] \"OPTIONS /getUser HTTP/1.1\" 200 -\n",
      "127.0.0.1 - - [18/Jan/2020 20:34:47] \"POST /getUser HTTP/1.1\" 200 -\n"
     ]
    },
    {
     "name": "stdout",
     "output_type": "stream",
     "text": [
      "Mounika\n"
     ]
    },
    {
     "name": "stderr",
     "output_type": "stream",
     "text": [
      "127.0.0.1 - - [18/Jan/2020 20:36:23] \"OPTIONS /getUser HTTP/1.1\" 200 -\n",
      "127.0.0.1 - - [18/Jan/2020 20:36:23] \"POST /getUser HTTP/1.1\" 200 -\n"
     ]
    },
    {
     "name": "stdout",
     "output_type": "stream",
     "text": [
      "Mounika\n"
     ]
    },
    {
     "name": "stderr",
     "output_type": "stream",
     "text": [
      "127.0.0.1 - - [18/Jan/2020 20:36:32] \"OPTIONS /getUser HTTP/1.1\" 200 -\n",
      "127.0.0.1 - - [18/Jan/2020 20:36:32] \"POST /getUser HTTP/1.1\" 200 -\n"
     ]
    },
    {
     "name": "stdout",
     "output_type": "stream",
     "text": [
      "Mounika\n"
     ]
    },
    {
     "name": "stderr",
     "output_type": "stream",
     "text": [
      "127.0.0.1 - - [18/Jan/2020 20:37:01] \"OPTIONS /getUser HTTP/1.1\" 200 -\n",
      "127.0.0.1 - - [18/Jan/2020 20:37:01] \"POST /getUser HTTP/1.1\" 200 -\n"
     ]
    },
    {
     "name": "stdout",
     "output_type": "stream",
     "text": [
      "Mounika\n"
     ]
    },
    {
     "name": "stderr",
     "output_type": "stream",
     "text": [
      "127.0.0.1 - - [18/Jan/2020 20:37:27] \"OPTIONS /getUser HTTP/1.1\" 200 -\n",
      "127.0.0.1 - - [18/Jan/2020 20:37:28] \"POST /getUser HTTP/1.1\" 200 -\n"
     ]
    },
    {
     "name": "stdout",
     "output_type": "stream",
     "text": [
      "Mounika\n"
     ]
    },
    {
     "name": "stderr",
     "output_type": "stream",
     "text": [
      "127.0.0.1 - - [18/Jan/2020 20:37:51] \"OPTIONS /getUser HTTP/1.1\" 200 -\n",
      "127.0.0.1 - - [18/Jan/2020 20:37:51] \"POST /getUser HTTP/1.1\" 200 -\n"
     ]
    },
    {
     "name": "stdout",
     "output_type": "stream",
     "text": [
      "Mounika\n"
     ]
    },
    {
     "name": "stderr",
     "output_type": "stream",
     "text": [
      "127.0.0.1 - - [18/Jan/2020 20:38:10] \"OPTIONS /getUser HTTP/1.1\" 200 -\n",
      "127.0.0.1 - - [18/Jan/2020 20:38:10] \"POST /getUser HTTP/1.1\" 200 -\n"
     ]
    },
    {
     "name": "stdout",
     "output_type": "stream",
     "text": [
      "Mounika\n"
     ]
    },
    {
     "name": "stderr",
     "output_type": "stream",
     "text": [
      "127.0.0.1 - - [18/Jan/2020 20:40:35] \"OPTIONS /getUser HTTP/1.1\" 200 -\n",
      "127.0.0.1 - - [18/Jan/2020 20:40:35] \"OPTIONS /getUser HTTP/1.1\" 200 -\n",
      "127.0.0.1 - - [18/Jan/2020 20:40:36] \"POST /getUser HTTP/1.1\" 200 -\n",
      "127.0.0.1 - - [18/Jan/2020 20:40:36] \"POST /getUser HTTP/1.1\" 200 -\n"
     ]
    },
    {
     "name": "stdout",
     "output_type": "stream",
     "text": [
      "Mounika\n",
      "Mounika\n"
     ]
    },
    {
     "name": "stderr",
     "output_type": "stream",
     "text": [
      "127.0.0.1 - - [18/Jan/2020 20:41:40] \"OPTIONS /getUser HTTP/1.1\" 200 -\n",
      "127.0.0.1 - - [18/Jan/2020 20:41:41] \"OPTIONS /getUser HTTP/1.1\" 200 -\n",
      "127.0.0.1 - - [18/Jan/2020 20:41:41] \"POST /getUser HTTP/1.1\" 200 -\n",
      "127.0.0.1 - - [18/Jan/2020 20:41:41] \"POST /getUser HTTP/1.1\" 200 -\n"
     ]
    },
    {
     "name": "stdout",
     "output_type": "stream",
     "text": [
      "Mounika\n",
      "Mounika\n"
     ]
    },
    {
     "name": "stderr",
     "output_type": "stream",
     "text": [
      "127.0.0.1 - - [18/Jan/2020 20:41:47] \"OPTIONS /getUser HTTP/1.1\" 200 -\n",
      "127.0.0.1 - - [18/Jan/2020 20:41:47] \"OPTIONS /getUser HTTP/1.1\" 200 -\n",
      "127.0.0.1 - - [18/Jan/2020 20:41:47] \"POST /getUser HTTP/1.1\" 200 -\n",
      "127.0.0.1 - - [18/Jan/2020 20:41:47] \"POST /getUser HTTP/1.1\" 200 -\n"
     ]
    },
    {
     "name": "stdout",
     "output_type": "stream",
     "text": [
      "Mounika\n",
      "Mounika\n"
     ]
    },
    {
     "name": "stderr",
     "output_type": "stream",
     "text": [
      "127.0.0.1 - - [18/Jan/2020 20:42:09] \"OPTIONS /getUser HTTP/1.1\" 200 -\n",
      "127.0.0.1 - - [18/Jan/2020 20:42:09] \"OPTIONS /getUser HTTP/1.1\" 200 -\n",
      "127.0.0.1 - - [18/Jan/2020 20:42:09] \"POST /getUser HTTP/1.1\" 200 -\n",
      "127.0.0.1 - - [18/Jan/2020 20:42:09] \"POST /getUser HTTP/1.1\" 200 -\n"
     ]
    },
    {
     "name": "stdout",
     "output_type": "stream",
     "text": [
      "Mounika\n",
      "Mounika\n"
     ]
    },
    {
     "name": "stderr",
     "output_type": "stream",
     "text": [
      "127.0.0.1 - - [18/Jan/2020 20:42:23] \"OPTIONS /getUser HTTP/1.1\" 200 -\n",
      "127.0.0.1 - - [18/Jan/2020 20:42:24] \"OPTIONS /getUser HTTP/1.1\" 200 -\n",
      "127.0.0.1 - - [18/Jan/2020 20:42:24] \"POST /getUser HTTP/1.1\" 200 -\n",
      "127.0.0.1 - - [18/Jan/2020 20:42:24] \"POST /getUser HTTP/1.1\" 200 -\n"
     ]
    },
    {
     "name": "stdout",
     "output_type": "stream",
     "text": [
      "Mounika\n",
      "Mounika\n"
     ]
    },
    {
     "name": "stderr",
     "output_type": "stream",
     "text": [
      "127.0.0.1 - - [18/Jan/2020 20:42:29] \"OPTIONS /getUser HTTP/1.1\" 200 -\n",
      "127.0.0.1 - - [18/Jan/2020 20:42:29] \"OPTIONS /getUser HTTP/1.1\" 200 -\n",
      "127.0.0.1 - - [18/Jan/2020 20:42:29] \"POST /getUser HTTP/1.1\" 200 -\n",
      "127.0.0.1 - - [18/Jan/2020 20:42:29] \"POST /getUser HTTP/1.1\" 200 -\n"
     ]
    },
    {
     "name": "stdout",
     "output_type": "stream",
     "text": [
      "Mounika\n",
      "Mounika\n"
     ]
    },
    {
     "name": "stderr",
     "output_type": "stream",
     "text": [
      "127.0.0.1 - - [18/Jan/2020 20:42:37] \"OPTIONS /getUser HTTP/1.1\" 200 -\n",
      "127.0.0.1 - - [18/Jan/2020 20:42:37] \"OPTIONS /getUser HTTP/1.1\" 200 -\n",
      "127.0.0.1 - - [18/Jan/2020 20:42:37] \"POST /getUser HTTP/1.1\" 200 -\n",
      "127.0.0.1 - - [18/Jan/2020 20:42:37] \"POST /getUser HTTP/1.1\" 200 -\n"
     ]
    },
    {
     "name": "stdout",
     "output_type": "stream",
     "text": [
      "Mounika\n",
      "Mounika\n"
     ]
    },
    {
     "name": "stderr",
     "output_type": "stream",
     "text": [
      "127.0.0.1 - - [18/Jan/2020 20:44:00] \"OPTIONS /getUser HTTP/1.1\" 200 -\n",
      "127.0.0.1 - - [18/Jan/2020 20:44:00] \"OPTIONS /getUser HTTP/1.1\" 200 -\n",
      "127.0.0.1 - - [18/Jan/2020 20:44:01] \"POST /getUser HTTP/1.1\" 200 -\n",
      "127.0.0.1 - - [18/Jan/2020 20:44:01] \"POST /getUser HTTP/1.1\" 200 -\n"
     ]
    },
    {
     "name": "stdout",
     "output_type": "stream",
     "text": [
      "Mounika\n",
      "Mounika\n"
     ]
    },
    {
     "name": "stderr",
     "output_type": "stream",
     "text": [
      "127.0.0.1 - - [18/Jan/2020 20:44:30] \"OPTIONS /getUser HTTP/1.1\" 200 -\n",
      "127.0.0.1 - - [18/Jan/2020 20:44:30] \"OPTIONS /getUser HTTP/1.1\" 200 -\n",
      "127.0.0.1 - - [18/Jan/2020 20:44:30] \"POST /getUser HTTP/1.1\" 200 -\n",
      "127.0.0.1 - - [18/Jan/2020 20:44:30] \"POST /getUser HTTP/1.1\" 200 -\n"
     ]
    },
    {
     "name": "stdout",
     "output_type": "stream",
     "text": [
      "Mounika\n",
      "Mounika\n"
     ]
    },
    {
     "name": "stderr",
     "output_type": "stream",
     "text": [
      "127.0.0.1 - - [18/Jan/2020 20:44:59] \"OPTIONS /getUser HTTP/1.1\" 200 -\n",
      "127.0.0.1 - - [18/Jan/2020 20:45:00] \"OPTIONS /getUser HTTP/1.1\" 200 -\n",
      "127.0.0.1 - - [18/Jan/2020 20:45:00] \"POST /getUser HTTP/1.1\" 200 -\n",
      "127.0.0.1 - - [18/Jan/2020 20:45:00] \"POST /getUser HTTP/1.1\" 200 -\n"
     ]
    },
    {
     "name": "stdout",
     "output_type": "stream",
     "text": [
      "Mounika\n",
      "Mounika\n"
     ]
    },
    {
     "name": "stderr",
     "output_type": "stream",
     "text": [
      "127.0.0.1 - - [18/Jan/2020 20:45:17] \"OPTIONS /getUser HTTP/1.1\" 200 -\n",
      "127.0.0.1 - - [18/Jan/2020 20:45:17] \"OPTIONS /getUser HTTP/1.1\" 200 -\n",
      "127.0.0.1 - - [18/Jan/2020 20:45:17] \"POST /getUser HTTP/1.1\" 200 -\n",
      "127.0.0.1 - - [18/Jan/2020 20:45:17] \"POST /getUser HTTP/1.1\" 200 -\n"
     ]
    },
    {
     "name": "stdout",
     "output_type": "stream",
     "text": [
      "Mounika \n",
      "Mounika\n"
     ]
    },
    {
     "name": "stderr",
     "output_type": "stream",
     "text": [
      "127.0.0.1 - - [18/Jan/2020 20:45:34] \"OPTIONS /getUser HTTP/1.1\" 200 -\n",
      "127.0.0.1 - - [18/Jan/2020 20:45:34] \"OPTIONS /getUser HTTP/1.1\" 200 -\n",
      "127.0.0.1 - - [18/Jan/2020 20:45:34] \"POST /getUser HTTP/1.1\" 200 -\n",
      "127.0.0.1 - - [18/Jan/2020 20:45:34] \"POST /getUser HTTP/1.1\" 200 -\n"
     ]
    },
    {
     "name": "stdout",
     "output_type": "stream",
     "text": [
      "Mounika\n",
      "Mounika\n"
     ]
    },
    {
     "name": "stderr",
     "output_type": "stream",
     "text": [
      "127.0.0.1 - - [18/Jan/2020 20:46:37] \"OPTIONS /getUser HTTP/1.1\" 200 -\n",
      "127.0.0.1 - - [18/Jan/2020 20:46:37] \"OPTIONS /getUser HTTP/1.1\" 200 -\n",
      "127.0.0.1 - - [18/Jan/2020 20:46:37] \"POST /getUser HTTP/1.1\" 200 -\n",
      "127.0.0.1 - - [18/Jan/2020 20:46:37] \"POST /getUser HTTP/1.1\" 200 -\n"
     ]
    },
    {
     "name": "stdout",
     "output_type": "stream",
     "text": [
      "Mounika\n",
      " Mounika\n"
     ]
    },
    {
     "name": "stderr",
     "output_type": "stream",
     "text": [
      "127.0.0.1 - - [18/Jan/2020 20:46:40] \"POST /getUser HTTP/1.1\" 400 -\n",
      "127.0.0.1 - - [18/Jan/2020 20:46:40] \"POST /getUser HTTP/1.1\" 400 -\n"
     ]
    },
    {
     "name": "stdout",
     "output_type": "stream",
     "text": [
      "None\n",
      "None\n"
     ]
    },
    {
     "name": "stderr",
     "output_type": "stream",
     "text": [
      "127.0.0.1 - - [18/Jan/2020 20:46:42] \"OPTIONS /getUser HTTP/1.1\" 200 -\n",
      "127.0.0.1 - - [18/Jan/2020 20:46:42] \"OPTIONS /getUser HTTP/1.1\" 200 -\n",
      "127.0.0.1 - - [18/Jan/2020 20:46:42] \"POST /getUser HTTP/1.1\" 400 -\n",
      "127.0.0.1 - - [18/Jan/2020 20:46:42] \"POST /getUser HTTP/1.1\" 400 -\n"
     ]
    },
    {
     "name": "stdout",
     "output_type": "stream",
     "text": [
      "None\n",
      "None\n"
     ]
    },
    {
     "name": "stderr",
     "output_type": "stream",
     "text": [
      "127.0.0.1 - - [18/Jan/2020 20:46:45] \"POST /getUser HTTP/1.1\" 200 -\n",
      "127.0.0.1 - - [18/Jan/2020 20:46:45] \"POST /getUser HTTP/1.1\" 200 -\n"
     ]
    },
    {
     "name": "stdout",
     "output_type": "stream",
     "text": [
      "Mounika\n",
      "Mounika\n"
     ]
    },
    {
     "name": "stderr",
     "output_type": "stream",
     "text": [
      "127.0.0.1 - - [18/Jan/2020 20:47:03] \"OPTIONS /getUser HTTP/1.1\" 200 -\n",
      "127.0.0.1 - - [18/Jan/2020 20:47:03] \"OPTIONS /getUser HTTP/1.1\" 200 -\n",
      "127.0.0.1 - - [18/Jan/2020 20:47:03] \"POST /getUser HTTP/1.1\" 200 -\n",
      "127.0.0.1 - - [18/Jan/2020 20:47:03] \"POST /getUser HTTP/1.1\" 200 -\n"
     ]
    },
    {
     "name": "stdout",
     "output_type": "stream",
     "text": [
      "MounikaMounika\n",
      "\n"
     ]
    },
    {
     "name": "stderr",
     "output_type": "stream",
     "text": [
      "127.0.0.1 - - [18/Jan/2020 20:47:27] \"OPTIONS /getUser HTTP/1.1\" 200 -\n",
      "127.0.0.1 - - [18/Jan/2020 20:47:27] \"OPTIONS /getUser HTTP/1.1\" 200 -\n",
      "127.0.0.1 - - [18/Jan/2020 20:47:28] \"POST /getUser HTTP/1.1\" 200 -\n",
      "127.0.0.1 - - [18/Jan/2020 20:47:28] \"POST /getUser HTTP/1.1\" 200 -\n"
     ]
    },
    {
     "name": "stdout",
     "output_type": "stream",
     "text": [
      "Mounika\n",
      "Mounika\n"
     ]
    },
    {
     "name": "stderr",
     "output_type": "stream",
     "text": [
      "127.0.0.1 - - [18/Jan/2020 20:47:31] \"GET /getMetric HTTP/1.1\" 200 -\n",
      "127.0.0.1 - - [18/Jan/2020 20:47:39] \"GET /getMetric HTTP/1.1\" 200 -\n",
      "127.0.0.1 - - [18/Jan/2020 20:48:06] \"GET /getMetric HTTP/1.1\" 200 -\n",
      "127.0.0.1 - - [18/Jan/2020 20:48:24] \"GET /getMetric HTTP/1.1\" 200 -\n",
      "127.0.0.1 - - [18/Jan/2020 20:49:30] \"OPTIONS /getUser HTTP/1.1\" 200 -\n",
      "127.0.0.1 - - [18/Jan/2020 20:49:30] \"POST /getUser HTTP/1.1\" 200 -\n"
     ]
    },
    {
     "name": "stdout",
     "output_type": "stream",
     "text": [
      "Mounika\n"
     ]
    },
    {
     "name": "stderr",
     "output_type": "stream",
     "text": [
      "127.0.0.1 - - [18/Jan/2020 20:49:32] \"POST /getUser HTTP/1.1\" 200 -\n"
     ]
    },
    {
     "name": "stdout",
     "output_type": "stream",
     "text": [
      "Mounika\n"
     ]
    }
   ],
   "source": [
    "if __name__ == '__main__':\n",
    "   app.run(port=5005)"
   ]
  },
  {
   "cell_type": "code",
   "execution_count": 11,
   "metadata": {},
   "outputs": [],
   "source": [
    "        with open(\"./Users/\"+\"Mounika\"+\".json\") as f:\n",
    "            data=json.load(f)"
   ]
  },
  {
   "cell_type": "code",
   "execution_count": 31,
   "metadata": {},
   "outputs": [],
   "source": [
    "finalData=[]\n",
    "for username in os.listdir('./Users/'):\n",
    "    if( \".json\" in username):\n",
    "        with open(\"./Users/\"+username) as f:\n",
    "            data=json.load(f)\n",
    "        \n",
    "        val={\n",
    "            \"name\":data['general']['name'],\n",
    "            \"company\":data['general'][\"company\"],\n",
    "            \"salary\" :data['general'][\"salary\"],\n",
    "            \"score\" : 100\n",
    "        }\n",
    "        finalData.append(val)\n",
    "        \n",
    "    "
   ]
  },
  {
   "cell_type": "code",
   "execution_count": 32,
   "metadata": {},
   "outputs": [
    {
     "data": {
      "text/plain": [
       "[{'company': u'Adobe', 'name': u'Likitha', 'salary': 1200000, 'score': 100},\n",
       " {'company': u'Udaan', 'name': u'Mounika', 'salary': 1800000, 'score': 100},\n",
       " {'company': u'Udaan', 'name': u'Anusha', 'salary': 1100000, 'score': 100}]"
      ]
     },
     "execution_count": 32,
     "metadata": {},
     "output_type": "execute_result"
    }
   ],
   "source": [
    "finalData"
   ]
  },
  {
   "cell_type": "code",
   "execution_count": null,
   "metadata": {
    "collapsed": true
   },
   "outputs": [],
   "source": [
    "@app.route(\"/getAllUsers\",methods=['POST'])\n",
    "def getAllUsers():\n",
    "    finalData=[]\n",
    "    for username in os.listdir('./Users/'):\n",
    "        if( \".json\" in username):\n",
    "            with open(\"./Users/\"+username) as f:\n",
    "                data=json.load(f)\n",
    "\n",
    "            val={\n",
    "                \"name\":data['general']['name'],\n",
    "                \"company\":data['general'][\"company\"],\n",
    "                \"salary\" :data['general'][\"salary\"],\n",
    "                \"score\" : 100\n",
    "            }\n",
    "            finalData.append(val)\n",
    "    \n",
    "    return  jsonify({'userProfile':finalData})"
   ]
  }
 ],
 "metadata": {
  "kernelspec": {
   "display_name": "Python 2",
   "language": "python",
   "name": "python2"
  },
  "language_info": {
   "codemirror_mode": {
    "name": "ipython",
    "version": 2
   },
   "file_extension": ".py",
   "mimetype": "text/x-python",
   "name": "python",
   "nbconvert_exporter": "python",
   "pygments_lexer": "ipython2",
   "version": "2.7.15"
  }
 },
 "nbformat": 4,
 "nbformat_minor": 2
}
