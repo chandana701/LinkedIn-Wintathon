{
 "cells": [
  {
   "cell_type": "code",
   "execution_count": 62,
   "metadata": {
    "collapsed": true
   },
   "outputs": [],
   "source": [
    "from flask import Flask, request\n",
    "from flask_cors import CORS, cross_origin\n",
    "from flask_restful import Resource, Api\n",
    "from json import dumps\n",
    "from flask_jsonpify import jsonify\n",
    "import json\n",
    "from collections import Counter\n",
    "import requests"
   ]
  },
  {
   "cell_type": "code",
   "execution_count": 63,
   "metadata": {},
   "outputs": [
    {
     "data": {
      "text/plain": [
       "<flask_cors.extension.CORS at 0x112dbe3d0>"
      ]
     },
     "execution_count": 63,
     "metadata": {},
     "output_type": "execute_result"
    }
   ],
   "source": [
    "app = Flask(__name__)\n",
    "api = Api(app)\n",
    "CORS(app)"
   ]
  },
  {
   "cell_type": "code",
   "execution_count": 64,
   "metadata": {
    "collapsed": true
   },
   "outputs": [],
   "source": [
    "@app.route(\"/hello\")\n",
    "def hello():\n",
    "    return jsonify({'text':'Hello World!'})"
   ]
  },
  {
   "cell_type": "code",
   "execution_count": 65,
   "metadata": {
    "collapsed": true
   },
   "outputs": [],
   "source": [
    "@app.route(\"/getMetric\",methods=['GET'])\n",
    "def getMetric():\n",
    "    with open(\"./metric.json\") as f:\n",
    "        data=json.load(f)\n",
    "    return  jsonify({'data':data})\n",
    "\n",
    "\n",
    "@app.route(\"/saveMetric\",methods=['POST'])\n",
    "def saveMetricData():\n",
    "    params=request.get_json(silent=True)\n",
    "    print(params[\"data\"])\n",
    "    with open(\"./metric.json\",'w') as f:\n",
    "        result=json.dump(params[\"data\"],f)\n",
    "    \n",
    "    return  jsonify({'response':'Metric saved successfully'})\n",
    "\n",
    "\n",
    "@app.route(\"/getUser\",methods=['POST'])\n",
    "def getUser():\n",
    "    params=request.get_json(silent=True)\n",
    "    username=params[\"userName\"]\n",
    "    try:\n",
    "        with open(\"./Users/\"+username+\".json\") as f:\n",
    "            data=json.load(f)\n",
    "        return  jsonify({'userProfile':data})\n",
    "    except:\n",
    "        return jsonify({'userProfile':{}}),400"
   ]
  },
  {
   "cell_type": "code",
   "execution_count": 66,
   "metadata": {
    "scrolled": true
   },
   "outputs": [
    {
     "name": "stdout",
     "output_type": "stream",
     "text": [
      " * Serving Flask app \"__main__\" (lazy loading)\n",
      " * Environment: production\n",
      "   WARNING: This is a development server. Do not use it in a production deployment.\n",
      "   Use a production WSGI server instead.\n",
      " * Debug mode: off\n"
     ]
    },
    {
     "name": "stderr",
     "output_type": "stream",
     "text": [
      " * Running on http://127.0.0.1:5005/ (Press CTRL+C to quit)\n",
      "127.0.0.1 - - [18/Jan/2020 18:34:45] \"GET /getMetric HTTP/1.1\" 200 -\n",
      "127.0.0.1 - - [18/Jan/2020 18:35:05] \"GET /getMetric HTTP/1.1\" 200 -\n"
     ]
    }
   ],
   "source": [
    "if __name__ == '__main__':\n",
    "   app.run(port=5005)"
   ]
  },
  {
   "cell_type": "code",
   "execution_count": 67,
   "metadata": {
    "collapsed": true
   },
   "outputs": [],
   "source": [
    "    with open(\"./metric.json\") as f:\n",
    "        data=json.load(f)"
   ]
  },
  {
   "cell_type": "code",
   "execution_count": 68,
   "metadata": {},
   "outputs": [
    {
     "data": {
      "text/plain": [
       "{u'collage': {u'data': {u'Birla Institute of Technology': 0,\n",
       "   u'Indian Institute Of Technolgy': 5,\n",
       "   u'National Institute Of Technolgy': 0},\n",
       "  u'type': u'text'},\n",
       " u'salary': {u'data': [{u'from': 0, u'to': 0, u'value': u''}],\n",
       "  u'type': u'number'}}"
      ]
     },
     "execution_count": 68,
     "metadata": {},
     "output_type": "execute_result"
    }
   ],
   "source": [
    "data"
   ]
  },
  {
   "cell_type": "code",
   "execution_count": null,
   "metadata": {
    "collapsed": true
   },
   "outputs": [],
   "source": []
  }
 ],
 "metadata": {
  "kernelspec": {
   "display_name": "Python 2",
   "language": "python",
   "name": "python2"
  },
  "language_info": {
   "codemirror_mode": {
    "name": "ipython",
    "version": 2
   },
   "file_extension": ".py",
   "mimetype": "text/x-python",
   "name": "python",
   "nbconvert_exporter": "python",
   "pygments_lexer": "ipython2",
   "version": "2.7.15"
  }
 },
 "nbformat": 4,
 "nbformat_minor": 2
}
