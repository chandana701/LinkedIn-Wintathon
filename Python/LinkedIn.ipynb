{
 "cells": [
  {
   "cell_type": "code",
   "execution_count": 43,
   "metadata": {
    "collapsed": true
   },
   "outputs": [],
   "source": [
    "from flask import Flask, request\n",
    "from flask_cors import CORS, cross_origin\n",
    "from flask_restful import Resource, Api\n",
    "from json import dumps\n",
    "from flask_jsonpify import jsonify\n",
    "import json\n",
    "from collections import Counter\n",
    "import requests\n",
    "import os"
   ]
  },
  {
   "cell_type": "code",
   "execution_count": 44,
   "metadata": {},
   "outputs": [
    {
     "data": {
      "text/plain": [
       "<flask_cors.extension.CORS at 0x10f53ebd0>"
      ]
     },
     "execution_count": 44,
     "metadata": {},
     "output_type": "execute_result"
    }
   ],
   "source": [
    "app = Flask(__name__)\n",
    "api = Api(app)\n",
    "CORS(app)\n",
    "\n",
    "@app.route(\"/hello\")\n",
    "def hello():\n",
    "    return jsonify({'text':'Hello World!'})"
   ]
  },
  {
   "cell_type": "code",
   "execution_count": 46,
   "metadata": {
    "collapsed": true
   },
   "outputs": [],
   "source": [
    "@app.route(\"/getMetric\",methods=['GET'])\n",
    "def getMetric():\n",
    "    with open(\"./metric.json\") as f:\n",
    "        data=json.load(f)\n",
    "    return  jsonify({'data':data})\n",
    "\n",
    "\n",
    "@app.route(\"/saveMetric\",methods=['POST'])\n",
    "def saveMetricData():\n",
    "    params=request.get_json(silent=True)\n",
    "    print(params[\"data\"])\n",
    "    with open(\"./metric.json\",'w') as f:\n",
    "        result=json.dump(params[\"data\"],f)\n",
    "    \n",
    "    return  jsonify({'response':'Metric saved successfully'})\n",
    "\n",
    "@app.route(\"/getAllUsers\",methods=['GET'])\n",
    "def getAllUsers():\n",
    "    finalData=[]\n",
    "    for username in os.listdir('./Users/'):\n",
    "        if( \".json\" in username):\n",
    "            with open(\"./Users/\"+username) as f:\n",
    "                data=json.load(f)\n",
    "\n",
    "            val={\n",
    "                \"name\":data['general']['name'],\n",
    "                \"company\":data['general'][\"company\"],\n",
    "                \"salary\" :data['general'][\"salary\"],\n",
    "                \"score\" : 100\n",
    "            }\n",
    "            finalData.append(val)\n",
    "    \n",
    "    return  jsonify({'data':finalData})\n",
    "\n",
    "@app.route(\"/getUser\",methods=['POST'])\n",
    "def getUser():\n",
    "    params=request.get_json(silent=True)\n",
    "    username=params[\"userName\"]\n",
    "    try:\n",
    "        print(username)\n",
    "        with open(\"./Users/\"+username+\".json\") as f:\n",
    "            data=json.load(f)\n",
    "        \n",
    "        return  jsonify({'userProfile':data})\n",
    "    except:\n",
    "        return jsonify({'userProfile':{}}),400"
   ]
  },
  {
   "cell_type": "code",
   "execution_count": null,
   "metadata": {
    "scrolled": true
   },
   "outputs": [
    {
     "name": "stdout",
     "output_type": "stream",
     "text": [
      " * Serving Flask app \"__main__\" (lazy loading)\n",
      " * Environment: production\n",
      "   WARNING: This is a development server. Do not use it in a production deployment.\n",
      "   Use a production WSGI server instead.\n",
      " * Debug mode: off\n"
     ]
    },
    {
     "name": "stderr",
     "output_type": "stream",
     "text": [
      " * Running on http://127.0.0.1:5005/ (Press CTRL+C to quit)\n",
      "127.0.0.1 - - [18/Jan/2020 21:08:37] \"GET /getAllUsers HTTP/1.1\" 200 -\n",
      "127.0.0.1 - - [18/Jan/2020 21:11:35] \"GET /getAllUsers HTTP/1.1\" 200 -\n",
      "127.0.0.1 - - [18/Jan/2020 21:15:48] \"GET /getAllUsers HTTP/1.1\" 200 -\n",
      "127.0.0.1 - - [18/Jan/2020 21:17:01] \"GET /getAllUsers HTTP/1.1\" 200 -\n",
      "127.0.0.1 - - [18/Jan/2020 21:17:03] \"OPTIONS /getUser HTTP/1.1\" 200 -\n",
      "127.0.0.1 - - [18/Jan/2020 21:17:03] \"POST /getUser HTTP/1.1\" 200 -\n"
     ]
    },
    {
     "name": "stdout",
     "output_type": "stream",
     "text": [
      "Mounika\n"
     ]
    },
    {
     "name": "stderr",
     "output_type": "stream",
     "text": [
      "127.0.0.1 - - [18/Jan/2020 21:17:05] \"POST /getUser HTTP/1.1\" 200 -\n",
      "127.0.0.1 - - [18/Jan/2020 21:17:05] \"POST /getUser HTTP/1.1\" 200 -\n"
     ]
    },
    {
     "name": "stdout",
     "output_type": "stream",
     "text": [
      "MounikaMounika\n",
      "\n"
     ]
    },
    {
     "name": "stderr",
     "output_type": "stream",
     "text": [
      "127.0.0.1 - - [18/Jan/2020 21:17:08] \"POST /getUser HTTP/1.1\" 200 -\n"
     ]
    },
    {
     "name": "stdout",
     "output_type": "stream",
     "text": [
      "Mounika\n"
     ]
    },
    {
     "name": "stderr",
     "output_type": "stream",
     "text": [
      "127.0.0.1 - - [18/Jan/2020 21:17:10] \"OPTIONS /getUser HTTP/1.1\" 200 -\n",
      "127.0.0.1 - - [18/Jan/2020 21:17:11] \"POST /getUser HTTP/1.1\" 200 -\n"
     ]
    },
    {
     "name": "stdout",
     "output_type": "stream",
     "text": [
      "Mounika\n"
     ]
    },
    {
     "name": "stderr",
     "output_type": "stream",
     "text": [
      "127.0.0.1 - - [18/Jan/2020 21:17:24] \"GET /getAllUsers HTTP/1.1\" 200 -\n",
      "127.0.0.1 - - [18/Jan/2020 21:17:27] \"OPTIONS /getUser HTTP/1.1\" 200 -\n",
      "127.0.0.1 - - [18/Jan/2020 21:17:27] \"POST /getUser HTTP/1.1\" 200 -\n"
     ]
    },
    {
     "name": "stdout",
     "output_type": "stream",
     "text": [
      "Likitha\n"
     ]
    },
    {
     "name": "stderr",
     "output_type": "stream",
     "text": [
      "127.0.0.1 - - [18/Jan/2020 21:17:28] \"POST /getUser HTTP/1.1\" 200 -\n",
      "127.0.0.1 - - [18/Jan/2020 21:17:28] \"POST /getUser HTTP/1.1\" 200 -\n"
     ]
    },
    {
     "name": "stdout",
     "output_type": "stream",
     "text": [
      "Likitha\n",
      "Likitha\n"
     ]
    },
    {
     "name": "stderr",
     "output_type": "stream",
     "text": [
      "127.0.0.1 - - [18/Jan/2020 21:17:30] \"POST /getUser HTTP/1.1\" 200 -\n"
     ]
    },
    {
     "name": "stdout",
     "output_type": "stream",
     "text": [
      "Likitha\n"
     ]
    },
    {
     "name": "stderr",
     "output_type": "stream",
     "text": [
      "127.0.0.1 - - [18/Jan/2020 21:17:31] \"POST /getUser HTTP/1.1\" 200 -\n"
     ]
    },
    {
     "name": "stdout",
     "output_type": "stream",
     "text": [
      "Likitha\n"
     ]
    },
    {
     "name": "stderr",
     "output_type": "stream",
     "text": [
      "127.0.0.1 - - [18/Jan/2020 21:17:34] \"OPTIONS /getUser HTTP/1.1\" 200 -\n",
      "127.0.0.1 - - [18/Jan/2020 21:17:34] \"POST /getUser HTTP/1.1\" 200 -\n"
     ]
    },
    {
     "name": "stdout",
     "output_type": "stream",
     "text": [
      "Likitha\n"
     ]
    },
    {
     "name": "stderr",
     "output_type": "stream",
     "text": [
      "127.0.0.1 - - [18/Jan/2020 21:17:36] \"POST /getUser HTTP/1.1\" 200 -\n"
     ]
    },
    {
     "name": "stdout",
     "output_type": "stream",
     "text": [
      "Likitha\n"
     ]
    },
    {
     "name": "stderr",
     "output_type": "stream",
     "text": [
      "127.0.0.1 - - [18/Jan/2020 21:23:32] \"GET /getAllUsers HTTP/1.1\" 200 -\n",
      "127.0.0.1 - - [18/Jan/2020 21:23:53] \"GET /getAllUsers HTTP/1.1\" 200 -\n",
      "127.0.0.1 - - [18/Jan/2020 21:24:09] \"GET /getAllUsers HTTP/1.1\" 200 -\n",
      "127.0.0.1 - - [18/Jan/2020 21:24:31] \"GET /getAllUsers HTTP/1.1\" 200 -\n",
      "127.0.0.1 - - [18/Jan/2020 21:24:38] \"GET /getAllUsers HTTP/1.1\" 200 -\n",
      "127.0.0.1 - - [18/Jan/2020 21:24:48] \"GET /getAllUsers HTTP/1.1\" 200 -\n",
      "127.0.0.1 - - [18/Jan/2020 21:25:16] \"GET /getAllUsers HTTP/1.1\" 200 -\n",
      "127.0.0.1 - - [18/Jan/2020 21:25:25] \"GET /getAllUsers HTTP/1.1\" 200 -\n",
      "127.0.0.1 - - [18/Jan/2020 21:25:34] \"GET /getAllUsers HTTP/1.1\" 200 -\n",
      "127.0.0.1 - - [18/Jan/2020 21:25:37] \"GET /getAllUsers HTTP/1.1\" 200 -\n",
      "127.0.0.1 - - [18/Jan/2020 21:25:39] \"OPTIONS /getUser HTTP/1.1\" 200 -\n",
      "127.0.0.1 - - [18/Jan/2020 21:25:39] \"POST /getUser HTTP/1.1\" 200 -\n"
     ]
    },
    {
     "name": "stdout",
     "output_type": "stream",
     "text": [
      "Likitha\n"
     ]
    },
    {
     "name": "stderr",
     "output_type": "stream",
     "text": [
      "127.0.0.1 - - [18/Jan/2020 21:25:41] \"POST /getUser HTTP/1.1\" 200 -\n",
      "127.0.0.1 - - [18/Jan/2020 21:25:41] \"POST /getUser HTTP/1.1\" 200 -\n"
     ]
    },
    {
     "name": "stdout",
     "output_type": "stream",
     "text": [
      "Likitha\n",
      "Likitha\n"
     ]
    },
    {
     "name": "stderr",
     "output_type": "stream",
     "text": [
      "127.0.0.1 - - [18/Jan/2020 21:25:43] \"POST /getUser HTTP/1.1\" 200 -\n"
     ]
    },
    {
     "name": "stdout",
     "output_type": "stream",
     "text": [
      "Likitha\n"
     ]
    },
    {
     "name": "stderr",
     "output_type": "stream",
     "text": [
      "127.0.0.1 - - [18/Jan/2020 21:25:44] \"OPTIONS /getUser HTTP/1.1\" 200 -\n",
      "127.0.0.1 - - [18/Jan/2020 21:25:45] \"POST /getUser HTTP/1.1\" 200 -\n"
     ]
    },
    {
     "name": "stdout",
     "output_type": "stream",
     "text": [
      "Likitha\n"
     ]
    },
    {
     "name": "stderr",
     "output_type": "stream",
     "text": [
      "127.0.0.1 - - [18/Jan/2020 21:25:51] \"OPTIONS /getUser HTTP/1.1\" 200 -\n",
      "127.0.0.1 - - [18/Jan/2020 21:25:51] \"POST /getUser HTTP/1.1\" 200 -\n"
     ]
    },
    {
     "name": "stdout",
     "output_type": "stream",
     "text": [
      "Likitha\n"
     ]
    },
    {
     "name": "stderr",
     "output_type": "stream",
     "text": [
      "127.0.0.1 - - [18/Jan/2020 21:26:01] \"OPTIONS /getUser HTTP/1.1\" 200 -\n",
      "127.0.0.1 - - [18/Jan/2020 21:26:01] \"POST /getUser HTTP/1.1\" 200 -\n"
     ]
    },
    {
     "name": "stdout",
     "output_type": "stream",
     "text": [
      "Likitha\n"
     ]
    },
    {
     "name": "stderr",
     "output_type": "stream",
     "text": [
      "127.0.0.1 - - [18/Jan/2020 21:26:12] \"GET /getAllUsers HTTP/1.1\" 200 -\n",
      "127.0.0.1 - - [18/Jan/2020 21:26:14] \"OPTIONS /getUser HTTP/1.1\" 200 -\n",
      "127.0.0.1 - - [18/Jan/2020 21:26:14] \"POST /getUser HTTP/1.1\" 200 -\n"
     ]
    },
    {
     "name": "stdout",
     "output_type": "stream",
     "text": [
      "Likitha\n"
     ]
    },
    {
     "name": "stderr",
     "output_type": "stream",
     "text": [
      "127.0.0.1 - - [18/Jan/2020 21:26:15] \"POST /getUser HTTP/1.1\" 200 -\n"
     ]
    },
    {
     "name": "stdout",
     "output_type": "stream",
     "text": [
      "Likitha\n"
     ]
    },
    {
     "name": "stderr",
     "output_type": "stream",
     "text": [
      "127.0.0.1 - - [18/Jan/2020 21:27:13] \"GET /getAllUsers HTTP/1.1\" 200 -\n",
      "127.0.0.1 - - [18/Jan/2020 21:27:14] \"GET /getMetric HTTP/1.1\" 200 -\n",
      "127.0.0.1 - - [18/Jan/2020 21:27:36] \"GET /getAllUsers HTTP/1.1\" 200 -\n",
      "127.0.0.1 - - [18/Jan/2020 21:27:41] \"OPTIONS /getUser HTTP/1.1\" 200 -\n",
      "127.0.0.1 - - [18/Jan/2020 21:27:42] \"POST /getUser HTTP/1.1\" 200 -\n"
     ]
    },
    {
     "name": "stdout",
     "output_type": "stream",
     "text": [
      "Mounika\n"
     ]
    },
    {
     "name": "stderr",
     "output_type": "stream",
     "text": [
      "127.0.0.1 - - [18/Jan/2020 21:28:19] \"OPTIONS /getUser HTTP/1.1\" 200 -\n",
      "127.0.0.1 - - [18/Jan/2020 21:28:20] \"POST /getUser HTTP/1.1\" 200 -\n"
     ]
    },
    {
     "name": "stdout",
     "output_type": "stream",
     "text": [
      "Mounika\n"
     ]
    },
    {
     "name": "stderr",
     "output_type": "stream",
     "text": [
      "127.0.0.1 - - [18/Jan/2020 21:29:18] \"OPTIONS /getUser HTTP/1.1\" 200 -\n",
      "127.0.0.1 - - [18/Jan/2020 21:29:18] \"POST /getUser HTTP/1.1\" 200 -\n"
     ]
    },
    {
     "name": "stdout",
     "output_type": "stream",
     "text": [
      "Mounika\n"
     ]
    },
    {
     "name": "stderr",
     "output_type": "stream",
     "text": [
      "127.0.0.1 - - [18/Jan/2020 21:29:21] \"POST /getUser HTTP/1.1\" 200 -\n"
     ]
    },
    {
     "name": "stdout",
     "output_type": "stream",
     "text": [
      "Mounika\n"
     ]
    },
    {
     "name": "stderr",
     "output_type": "stream",
     "text": [
      "127.0.0.1 - - [18/Jan/2020 21:31:00] \"OPTIONS /getUser HTTP/1.1\" 200 -\n",
      "127.0.0.1 - - [18/Jan/2020 21:31:00] \"POST /getUser HTTP/1.1\" 200 -\n"
     ]
    },
    {
     "name": "stdout",
     "output_type": "stream",
     "text": [
      "Mounika\n"
     ]
    },
    {
     "name": "stderr",
     "output_type": "stream",
     "text": [
      "127.0.0.1 - - [18/Jan/2020 21:31:11] \"OPTIONS /getUser HTTP/1.1\" 200 -\n",
      "127.0.0.1 - - [18/Jan/2020 21:31:11] \"POST /getUser HTTP/1.1\" 200 -\n"
     ]
    },
    {
     "name": "stdout",
     "output_type": "stream",
     "text": [
      "Mounika\n"
     ]
    },
    {
     "name": "stderr",
     "output_type": "stream",
     "text": [
      "127.0.0.1 - - [18/Jan/2020 21:31:24] \"OPTIONS /getUser HTTP/1.1\" 200 -\n",
      "127.0.0.1 - - [18/Jan/2020 21:31:24] \"POST /getUser HTTP/1.1\" 200 -\n"
     ]
    },
    {
     "name": "stdout",
     "output_type": "stream",
     "text": [
      "Mounika\n"
     ]
    },
    {
     "name": "stderr",
     "output_type": "stream",
     "text": [
      "127.0.0.1 - - [18/Jan/2020 21:32:45] \"OPTIONS /getUser HTTP/1.1\" 200 -\n",
      "127.0.0.1 - - [18/Jan/2020 21:32:45] \"POST /getUser HTTP/1.1\" 200 -\n"
     ]
    },
    {
     "name": "stdout",
     "output_type": "stream",
     "text": [
      "Mounika\n"
     ]
    },
    {
     "name": "stderr",
     "output_type": "stream",
     "text": [
      "127.0.0.1 - - [18/Jan/2020 21:33:21] \"OPTIONS /getUser HTTP/1.1\" 200 -\n",
      "127.0.0.1 - - [18/Jan/2020 21:33:22] \"POST /getUser HTTP/1.1\" 200 -\n"
     ]
    },
    {
     "name": "stdout",
     "output_type": "stream",
     "text": [
      "Mounika\n"
     ]
    },
    {
     "name": "stderr",
     "output_type": "stream",
     "text": [
      "127.0.0.1 - - [18/Jan/2020 21:35:44] \"OPTIONS /getUser HTTP/1.1\" 200 -\n",
      "127.0.0.1 - - [18/Jan/2020 21:35:44] \"POST /getUser HTTP/1.1\" 200 -\n"
     ]
    },
    {
     "name": "stdout",
     "output_type": "stream",
     "text": [
      "Mounika\n"
     ]
    },
    {
     "name": "stderr",
     "output_type": "stream",
     "text": [
      "127.0.0.1 - - [18/Jan/2020 21:37:06] \"OPTIONS /getUser HTTP/1.1\" 200 -\n",
      "127.0.0.1 - - [18/Jan/2020 21:37:06] \"POST /getUser HTTP/1.1\" 200 -\n"
     ]
    },
    {
     "name": "stdout",
     "output_type": "stream",
     "text": [
      "Mounika\n"
     ]
    },
    {
     "name": "stderr",
     "output_type": "stream",
     "text": [
      "127.0.0.1 - - [18/Jan/2020 21:37:36] \"OPTIONS /getUser HTTP/1.1\" 200 -\n",
      "127.0.0.1 - - [18/Jan/2020 21:37:36] \"POST /getUser HTTP/1.1\" 200 -\n"
     ]
    },
    {
     "name": "stdout",
     "output_type": "stream",
     "text": [
      "Mounika\n"
     ]
    },
    {
     "name": "stderr",
     "output_type": "stream",
     "text": [
      "127.0.0.1 - - [18/Jan/2020 21:37:39] \"POST /getUser HTTP/1.1\" 200 -\n"
     ]
    },
    {
     "name": "stdout",
     "output_type": "stream",
     "text": [
      "Mounika\n"
     ]
    },
    {
     "name": "stderr",
     "output_type": "stream",
     "text": [
      "127.0.0.1 - - [18/Jan/2020 21:37:56] \"GET /getAllUsers HTTP/1.1\" 200 -\n",
      "127.0.0.1 - - [18/Jan/2020 21:38:41] \"GET /getAllUsers HTTP/1.1\" 200 -\n",
      "127.0.0.1 - - [18/Jan/2020 21:38:45] \"OPTIONS /getUser HTTP/1.1\" 200 -\n",
      "127.0.0.1 - - [18/Jan/2020 21:38:45] \"POST /getUser HTTP/1.1\" 200 -\n"
     ]
    },
    {
     "name": "stdout",
     "output_type": "stream",
     "text": [
      "Likitha\n"
     ]
    },
    {
     "name": "stderr",
     "output_type": "stream",
     "text": [
      "127.0.0.1 - - [18/Jan/2020 21:38:47] \"POST /getUser HTTP/1.1\" 200 -\n"
     ]
    },
    {
     "name": "stdout",
     "output_type": "stream",
     "text": [
      "Likitha\n"
     ]
    },
    {
     "name": "stderr",
     "output_type": "stream",
     "text": [
      "127.0.0.1 - - [18/Jan/2020 21:39:46] \"OPTIONS /getUser HTTP/1.1\" 200 -\n",
      "127.0.0.1 - - [18/Jan/2020 21:39:46] \"POST /getUser HTTP/1.1\" 200 -\n"
     ]
    },
    {
     "name": "stdout",
     "output_type": "stream",
     "text": [
      "Likitha\n"
     ]
    },
    {
     "name": "stderr",
     "output_type": "stream",
     "text": [
      "127.0.0.1 - - [18/Jan/2020 21:40:03] \"OPTIONS /getUser HTTP/1.1\" 200 -\n",
      "127.0.0.1 - - [18/Jan/2020 21:40:03] \"POST /getUser HTTP/1.1\" 200 -\n"
     ]
    },
    {
     "name": "stdout",
     "output_type": "stream",
     "text": [
      "Likitha\n"
     ]
    },
    {
     "name": "stderr",
     "output_type": "stream",
     "text": [
      "127.0.0.1 - - [18/Jan/2020 21:40:05] \"GET /getAllUsers HTTP/1.1\" 200 -\n",
      "127.0.0.1 - - [18/Jan/2020 21:40:07] \"GET /getMetric HTTP/1.1\" 200 -\n",
      "127.0.0.1 - - [18/Jan/2020 21:40:09] \"GET /getAllUsers HTTP/1.1\" 200 -\n",
      "127.0.0.1 - - [18/Jan/2020 22:43:56] \"OPTIONS /getUser HTTP/1.1\" 200 -\n",
      "127.0.0.1 - - [18/Jan/2020 22:43:56] \"POST /getUser HTTP/1.1\" 200 -\n"
     ]
    },
    {
     "name": "stdout",
     "output_type": "stream",
     "text": [
      "Mounika\n"
     ]
    },
    {
     "name": "stderr",
     "output_type": "stream",
     "text": [
      "127.0.0.1 - - [18/Jan/2020 22:44:01] \"OPTIONS /getUser HTTP/1.1\" 200 -\n",
      "127.0.0.1 - - [18/Jan/2020 22:44:01] \"OPTIONS /getUser HTTP/1.1\" 200 -\n",
      "127.0.0.1 - - [18/Jan/2020 22:44:01] \"POST /getUser HTTP/1.1\" 200 -\n",
      "127.0.0.1 - - [18/Jan/2020 22:44:01] \"POST /getUser HTTP/1.1\" 200 -\n"
     ]
    },
    {
     "name": "stdout",
     "output_type": "stream",
     "text": [
      "MounikaMounika\n",
      "\n"
     ]
    },
    {
     "name": "stderr",
     "output_type": "stream",
     "text": [
      "127.0.0.1 - - [18/Jan/2020 22:45:11] \"OPTIONS /getUser HTTP/1.1\" 200 -\n",
      "127.0.0.1 - - [18/Jan/2020 22:45:11] \"OPTIONS /getUser HTTP/1.1\" 200 -\n",
      "127.0.0.1 - - [18/Jan/2020 22:45:12] \"POST /getUser HTTP/1.1\" 200 -\n",
      "127.0.0.1 - - [18/Jan/2020 22:45:12] \"POST /getUser HTTP/1.1\" 200 -\n"
     ]
    },
    {
     "name": "stdout",
     "output_type": "stream",
     "text": [
      "Mounika\n",
      "Mounika\n"
     ]
    },
    {
     "name": "stderr",
     "output_type": "stream",
     "text": [
      "127.0.0.1 - - [18/Jan/2020 23:09:20] \"GET /getAllUsers HTTP/1.1\" 200 -\n",
      "127.0.0.1 - - [18/Jan/2020 23:09:22] \"OPTIONS /getUser HTTP/1.1\" 200 -\n",
      "127.0.0.1 - - [18/Jan/2020 23:09:22] \"POST /getUser HTTP/1.1\" 200 -\n"
     ]
    },
    {
     "name": "stdout",
     "output_type": "stream",
     "text": [
      "Mounika\n"
     ]
    },
    {
     "name": "stderr",
     "output_type": "stream",
     "text": [
      "127.0.0.1 - - [18/Jan/2020 23:09:24] \"POST /getUser HTTP/1.1\" 200 -\n",
      "127.0.0.1 - - [18/Jan/2020 23:09:24] \"POST /getUser HTTP/1.1\" 200 -\n"
     ]
    },
    {
     "name": "stdout",
     "output_type": "stream",
     "text": [
      "Mounika\n",
      "Mounika\n"
     ]
    },
    {
     "name": "stderr",
     "output_type": "stream",
     "text": [
      "127.0.0.1 - - [18/Jan/2020 23:21:46] \"OPTIONS /getUser HTTP/1.1\" 200 -\n",
      "127.0.0.1 - - [18/Jan/2020 23:21:46] \"OPTIONS /getUser HTTP/1.1\" 200 -\n",
      "127.0.0.1 - - [18/Jan/2020 23:21:46] \"POST /getUser HTTP/1.1\" 400 -\n",
      "127.0.0.1 - - [18/Jan/2020 23:21:46] \"POST /getUser HTTP/1.1\" 400 -\n"
     ]
    },
    {
     "name": "stdout",
     "output_type": "stream",
     "text": [
      "None\n",
      "None\n"
     ]
    },
    {
     "name": "stderr",
     "output_type": "stream",
     "text": [
      "127.0.0.1 - - [18/Jan/2020 23:21:57] \"GET /getMetric HTTP/1.1\" 200 -\n",
      "127.0.0.1 - - [18/Jan/2020 23:21:59] \"GET /getAllUsers HTTP/1.1\" 200 -\n",
      "127.0.0.1 - - [18/Jan/2020 23:22:00] \"OPTIONS /getUser HTTP/1.1\" 200 -\n",
      "127.0.0.1 - - [18/Jan/2020 23:22:00] \"POST /getUser HTTP/1.1\" 200 -\n"
     ]
    },
    {
     "name": "stdout",
     "output_type": "stream",
     "text": [
      "Likitha\n"
     ]
    },
    {
     "name": "stderr",
     "output_type": "stream",
     "text": [
      "127.0.0.1 - - [18/Jan/2020 23:22:03] \"POST /getUser HTTP/1.1\" 200 -\n",
      "127.0.0.1 - - [18/Jan/2020 23:22:03] \"POST /getUser HTTP/1.1\" 200 -\n"
     ]
    },
    {
     "name": "stdout",
     "output_type": "stream",
     "text": [
      "Likitha\n",
      "Likitha\n"
     ]
    },
    {
     "name": "stderr",
     "output_type": "stream",
     "text": [
      "127.0.0.1 - - [18/Jan/2020 23:30:39] \"OPTIONS /getUser HTTP/1.1\" 200 -\n",
      "127.0.0.1 - - [18/Jan/2020 23:30:39] \"OPTIONS /getUser HTTP/1.1\" 200 -\n",
      "127.0.0.1 - - [18/Jan/2020 23:30:39] \"POST /getUser HTTP/1.1\" 400 -\n",
      "127.0.0.1 - - [18/Jan/2020 23:30:39] \"POST /getUser HTTP/1.1\" 400 -\n"
     ]
    },
    {
     "name": "stdout",
     "output_type": "stream",
     "text": [
      "None\n",
      "None\n"
     ]
    },
    {
     "name": "stderr",
     "output_type": "stream",
     "text": [
      "127.0.0.1 - - [18/Jan/2020 23:30:46] \"GET /getAllUsers HTTP/1.1\" 200 -\n",
      "127.0.0.1 - - [18/Jan/2020 23:30:48] \"OPTIONS /getUser HTTP/1.1\" 200 -\n",
      "127.0.0.1 - - [18/Jan/2020 23:30:49] \"POST /getUser HTTP/1.1\" 200 -\n"
     ]
    },
    {
     "name": "stdout",
     "output_type": "stream",
     "text": [
      "Likitha\n"
     ]
    },
    {
     "name": "stderr",
     "output_type": "stream",
     "text": [
      "127.0.0.1 - - [18/Jan/2020 23:30:50] \"POST /getUser HTTP/1.1\" 200 -\n",
      "127.0.0.1 - - [18/Jan/2020 23:30:50] \"POST /getUser HTTP/1.1\" 200 -\n"
     ]
    },
    {
     "name": "stdout",
     "output_type": "stream",
     "text": [
      "Likitha\n",
      "Likitha\n"
     ]
    },
    {
     "name": "stderr",
     "output_type": "stream",
     "text": [
      "127.0.0.1 - - [18/Jan/2020 23:30:52] \"POST /getUser HTTP/1.1\" 200 -\n"
     ]
    },
    {
     "name": "stdout",
     "output_type": "stream",
     "text": [
      "Likitha\n"
     ]
    },
    {
     "name": "stderr",
     "output_type": "stream",
     "text": [
      "127.0.0.1 - - [18/Jan/2020 23:30:53] \"POST /getUser HTTP/1.1\" 200 -\n"
     ]
    },
    {
     "name": "stdout",
     "output_type": "stream",
     "text": [
      "Likitha\n"
     ]
    },
    {
     "name": "stderr",
     "output_type": "stream",
     "text": [
      "127.0.0.1 - - [18/Jan/2020 23:31:03] \"OPTIONS /getUser HTTP/1.1\" 200 -\n",
      "127.0.0.1 - - [18/Jan/2020 23:31:03] \"POST /getUser HTTP/1.1\" 200 -\n"
     ]
    },
    {
     "name": "stdout",
     "output_type": "stream",
     "text": [
      "Likitha\n"
     ]
    },
    {
     "name": "stderr",
     "output_type": "stream",
     "text": [
      "127.0.0.1 - - [18/Jan/2020 23:31:04] \"POST /getUser HTTP/1.1\" 200 -\n"
     ]
    },
    {
     "name": "stdout",
     "output_type": "stream",
     "text": [
      "Likitha\n"
     ]
    },
    {
     "name": "stderr",
     "output_type": "stream",
     "text": [
      "127.0.0.1 - - [18/Jan/2020 23:31:38] \"OPTIONS /getUser HTTP/1.1\" 200 -\n",
      "127.0.0.1 - - [18/Jan/2020 23:31:38] \"POST /getUser HTTP/1.1\" 200 -\n"
     ]
    },
    {
     "name": "stdout",
     "output_type": "stream",
     "text": [
      "Likitha\n"
     ]
    },
    {
     "name": "stderr",
     "output_type": "stream",
     "text": [
      "127.0.0.1 - - [18/Jan/2020 23:32:11] \"OPTIONS /getUser HTTP/1.1\" 200 -\n",
      "127.0.0.1 - - [18/Jan/2020 23:32:11] \"OPTIONS /getUser HTTP/1.1\" 200 -\n",
      "127.0.0.1 - - [18/Jan/2020 23:32:11] \"POST /getUser HTTP/1.1\" 400 -\n",
      "127.0.0.1 - - [18/Jan/2020 23:32:11] \"POST /getUser HTTP/1.1\" 400 -\n"
     ]
    },
    {
     "name": "stdout",
     "output_type": "stream",
     "text": [
      "None\n",
      "None\n"
     ]
    },
    {
     "name": "stderr",
     "output_type": "stream",
     "text": [
      "127.0.0.1 - - [18/Jan/2020 23:33:56] \"GET /getAllUsers HTTP/1.1\" 200 -\n",
      "127.0.0.1 - - [18/Jan/2020 23:33:59] \"OPTIONS /getUser HTTP/1.1\" 200 -\n",
      "127.0.0.1 - - [18/Jan/2020 23:34:00] \"POST /getUser HTTP/1.1\" 200 -\n"
     ]
    },
    {
     "name": "stdout",
     "output_type": "stream",
     "text": [
      "Likitha\n"
     ]
    },
    {
     "name": "stderr",
     "output_type": "stream",
     "text": [
      "127.0.0.1 - - [18/Jan/2020 23:34:02] \"POST /getUser HTTP/1.1\" 200 -\n",
      "127.0.0.1 - - [18/Jan/2020 23:34:02] \"POST /getUser HTTP/1.1\" 200 -\n"
     ]
    },
    {
     "name": "stdout",
     "output_type": "stream",
     "text": [
      "Likitha\n",
      "Likitha\n"
     ]
    },
    {
     "name": "stderr",
     "output_type": "stream",
     "text": [
      "127.0.0.1 - - [18/Jan/2020 23:36:49] \"OPTIONS /getUser HTTP/1.1\" 200 -\n",
      "127.0.0.1 - - [18/Jan/2020 23:36:49] \"POST /getUser HTTP/1.1\" 200 -\n"
     ]
    },
    {
     "name": "stdout",
     "output_type": "stream",
     "text": [
      "Likitha\n"
     ]
    },
    {
     "name": "stderr",
     "output_type": "stream",
     "text": [
      "127.0.0.1 - - [18/Jan/2020 23:36:54] \"POST /getUser HTTP/1.1\" 200 -\n"
     ]
    },
    {
     "name": "stdout",
     "output_type": "stream",
     "text": [
      "Likitha\n"
     ]
    },
    {
     "name": "stderr",
     "output_type": "stream",
     "text": [
      "127.0.0.1 - - [18/Jan/2020 23:38:31] \"OPTIONS /getUser HTTP/1.1\" 200 -\n",
      "127.0.0.1 - - [18/Jan/2020 23:38:32] \"POST /getUser HTTP/1.1\" 200 -\n"
     ]
    },
    {
     "name": "stdout",
     "output_type": "stream",
     "text": [
      "Likitha\n"
     ]
    },
    {
     "name": "stderr",
     "output_type": "stream",
     "text": [
      "127.0.0.1 - - [18/Jan/2020 23:40:12] \"OPTIONS /getUser HTTP/1.1\" 200 -\n",
      "127.0.0.1 - - [18/Jan/2020 23:40:12] \"POST /getUser HTTP/1.1\" 200 -\n"
     ]
    },
    {
     "name": "stdout",
     "output_type": "stream",
     "text": [
      "Likitha\n"
     ]
    },
    {
     "name": "stderr",
     "output_type": "stream",
     "text": [
      "127.0.0.1 - - [18/Jan/2020 23:40:42] \"OPTIONS /getUser HTTP/1.1\" 200 -\n",
      "127.0.0.1 - - [18/Jan/2020 23:40:42] \"POST /getUser HTTP/1.1\" 200 -\n"
     ]
    },
    {
     "name": "stdout",
     "output_type": "stream",
     "text": [
      "Likitha\n"
     ]
    },
    {
     "name": "stderr",
     "output_type": "stream",
     "text": [
      "127.0.0.1 - - [18/Jan/2020 23:42:48] \"OPTIONS /getUser HTTP/1.1\" 200 -\n",
      "127.0.0.1 - - [18/Jan/2020 23:42:49] \"POST /getUser HTTP/1.1\" 200 -\n"
     ]
    },
    {
     "name": "stdout",
     "output_type": "stream",
     "text": [
      "Likitha\n"
     ]
    },
    {
     "name": "stderr",
     "output_type": "stream",
     "text": [
      "127.0.0.1 - - [18/Jan/2020 23:43:10] \"OPTIONS /getUser HTTP/1.1\" 200 -\n",
      "127.0.0.1 - - [18/Jan/2020 23:43:10] \"OPTIONS /getUser HTTP/1.1\" 200 -\n",
      "127.0.0.1 - - [18/Jan/2020 23:43:10] \"POST /getUser HTTP/1.1\" 200 -\n",
      "127.0.0.1 - - [18/Jan/2020 23:43:10] \"POST /getUser HTTP/1.1\" 200 -\n"
     ]
    },
    {
     "name": "stdout",
     "output_type": "stream",
     "text": [
      "Likitha\n",
      "Likitha\n"
     ]
    },
    {
     "name": "stderr",
     "output_type": "stream",
     "text": [
      "127.0.0.1 - - [18/Jan/2020 23:44:16] \"OPTIONS /getUser HTTP/1.1\" 200 -\n",
      "127.0.0.1 - - [18/Jan/2020 23:44:16] \"OPTIONS /getUser HTTP/1.1\" 200 -\n",
      "127.0.0.1 - - [18/Jan/2020 23:44:16] \"POST /getUser HTTP/1.1\" 200 -\n",
      "127.0.0.1 - - [18/Jan/2020 23:44:16] \"POST /getUser HTTP/1.1\" 200 -\n"
     ]
    },
    {
     "name": "stdout",
     "output_type": "stream",
     "text": [
      "Likitha\n",
      " Likitha\n"
     ]
    },
    {
     "name": "stderr",
     "output_type": "stream",
     "text": [
      "127.0.0.1 - - [18/Jan/2020 23:44:41] \"OPTIONS /getUser HTTP/1.1\" 200 -\n",
      "127.0.0.1 - - [18/Jan/2020 23:44:41] \"OPTIONS /getUser HTTP/1.1\" 200 -\n",
      "127.0.0.1 - - [18/Jan/2020 23:44:41] \"POST /getUser HTTP/1.1\" 200 -\n",
      "127.0.0.1 - - [18/Jan/2020 23:44:41] \"POST /getUser HTTP/1.1\" 200 -\n"
     ]
    },
    {
     "name": "stdout",
     "output_type": "stream",
     "text": [
      "Likitha\n",
      "Likitha\n"
     ]
    },
    {
     "name": "stderr",
     "output_type": "stream",
     "text": [
      "127.0.0.1 - - [18/Jan/2020 23:44:46] \"POST /getUser HTTP/1.1\" 200 -\n",
      "127.0.0.1 - - [18/Jan/2020 23:44:46] \"POST /getUser HTTP/1.1\" 200 -\n"
     ]
    },
    {
     "name": "stdout",
     "output_type": "stream",
     "text": [
      "Likitha\n",
      "Likitha\n"
     ]
    },
    {
     "name": "stderr",
     "output_type": "stream",
     "text": [
      "127.0.0.1 - - [18/Jan/2020 23:44:55] \"OPTIONS /getUser HTTP/1.1\" 200 -\n",
      "127.0.0.1 - - [18/Jan/2020 23:44:55] \"OPTIONS /getUser HTTP/1.1\" 200 -\n",
      "127.0.0.1 - - [18/Jan/2020 23:44:55] \"POST /getUser HTTP/1.1\" 200 -\n",
      "127.0.0.1 - - [18/Jan/2020 23:44:55] \"POST /getUser HTTP/1.1\" 200 -\n"
     ]
    },
    {
     "name": "stdout",
     "output_type": "stream",
     "text": [
      "Likitha\n",
      "Likitha\n"
     ]
    },
    {
     "name": "stderr",
     "output_type": "stream",
     "text": [
      "127.0.0.1 - - [18/Jan/2020 23:46:03] \"OPTIONS /getUser HTTP/1.1\" 200 -\n",
      "127.0.0.1 - - [18/Jan/2020 23:46:03] \"OPTIONS /getUser HTTP/1.1\" 200 -\n",
      "127.0.0.1 - - [18/Jan/2020 23:46:03] \"POST /getUser HTTP/1.1\" 200 -\n",
      "127.0.0.1 - - [18/Jan/2020 23:46:03] \"POST /getUser HTTP/1.1\" 200 -\n"
     ]
    },
    {
     "name": "stdout",
     "output_type": "stream",
     "text": [
      "Likitha\n",
      "Likitha\n"
     ]
    },
    {
     "name": "stderr",
     "output_type": "stream",
     "text": [
      "127.0.0.1 - - [18/Jan/2020 23:47:11] \"OPTIONS /getUser HTTP/1.1\" 200 -\n",
      "127.0.0.1 - - [18/Jan/2020 23:47:11] \"OPTIONS /getUser HTTP/1.1\" 200 -\n",
      "127.0.0.1 - - [18/Jan/2020 23:47:11] \"POST /getUser HTTP/1.1\" 200 -\n",
      "127.0.0.1 - - [18/Jan/2020 23:47:11] \"POST /getUser HTTP/1.1\" 200 -\n"
     ]
    },
    {
     "name": "stdout",
     "output_type": "stream",
     "text": [
      "Likitha\n",
      "Likitha\n"
     ]
    },
    {
     "name": "stderr",
     "output_type": "stream",
     "text": [
      "127.0.0.1 - - [18/Jan/2020 23:49:22] \"OPTIONS /getUser HTTP/1.1\" 200 -\n",
      "127.0.0.1 - - [18/Jan/2020 23:49:22] \"OPTIONS /getUser HTTP/1.1\" 200 -\n",
      "127.0.0.1 - - [18/Jan/2020 23:49:22] \"POST /getUser HTTP/1.1\" 200 -\n",
      "127.0.0.1 - - [18/Jan/2020 23:49:22] \"POST /getUser HTTP/1.1\" 200 -\n"
     ]
    },
    {
     "name": "stdout",
     "output_type": "stream",
     "text": [
      "Likitha\n",
      "Likitha\n"
     ]
    },
    {
     "name": "stderr",
     "output_type": "stream",
     "text": [
      "127.0.0.1 - - [18/Jan/2020 23:51:34] \"OPTIONS /getUser HTTP/1.1\" 200 -\n",
      "127.0.0.1 - - [18/Jan/2020 23:51:34] \"OPTIONS /getUser HTTP/1.1\" 200 -\n",
      "127.0.0.1 - - [18/Jan/2020 23:51:34] \"POST /getUser HTTP/1.1\" 200 -\n",
      "127.0.0.1 - - [18/Jan/2020 23:51:34] \"POST /getUser HTTP/1.1\" 200 -\n"
     ]
    },
    {
     "name": "stdout",
     "output_type": "stream",
     "text": [
      "Likitha\n",
      "Likitha\n"
     ]
    },
    {
     "name": "stderr",
     "output_type": "stream",
     "text": [
      "127.0.0.1 - - [18/Jan/2020 23:52:13] \"OPTIONS /getUser HTTP/1.1\" 200 -\n",
      "127.0.0.1 - - [18/Jan/2020 23:52:13] \"OPTIONS /getUser HTTP/1.1\" 200 -\n",
      "127.0.0.1 - - [18/Jan/2020 23:52:13] \"POST /getUser HTTP/1.1\" 200 -\n",
      "127.0.0.1 - - [18/Jan/2020 23:52:13] \"POST /getUser HTTP/1.1\" 200 -\n"
     ]
    },
    {
     "name": "stdout",
     "output_type": "stream",
     "text": [
      "Likitha\n",
      "Likitha\n"
     ]
    },
    {
     "name": "stderr",
     "output_type": "stream",
     "text": [
      "127.0.0.1 - - [18/Jan/2020 23:52:48] \"OPTIONS /getUser HTTP/1.1\" 200 -\n",
      "127.0.0.1 - - [18/Jan/2020 23:52:48] \"OPTIONS /getUser HTTP/1.1\" 200 -\n",
      "127.0.0.1 - - [18/Jan/2020 23:52:48] \"POST /getUser HTTP/1.1\" 200 -\n",
      "127.0.0.1 - - [18/Jan/2020 23:52:48] \"POST /getUser HTTP/1.1\" 200 -\n"
     ]
    },
    {
     "name": "stdout",
     "output_type": "stream",
     "text": [
      "Likitha\n",
      "Likitha\n"
     ]
    },
    {
     "name": "stderr",
     "output_type": "stream",
     "text": [
      "127.0.0.1 - - [18/Jan/2020 23:54:02] \"OPTIONS /getUser HTTP/1.1\" 200 -\n",
      "127.0.0.1 - - [18/Jan/2020 23:54:02] \"OPTIONS /getUser HTTP/1.1\" 200 -\n",
      "127.0.0.1 - - [18/Jan/2020 23:54:02] \"POST /getUser HTTP/1.1\" 200 -\n",
      "127.0.0.1 - - [18/Jan/2020 23:54:02] \"POST /getUser HTTP/1.1\" 200 -\n"
     ]
    },
    {
     "name": "stdout",
     "output_type": "stream",
     "text": [
      "Likitha\n",
      "Likitha\n"
     ]
    },
    {
     "name": "stderr",
     "output_type": "stream",
     "text": [
      "127.0.0.1 - - [18/Jan/2020 23:54:52] \"OPTIONS /getUser HTTP/1.1\" 200 -\n",
      "127.0.0.1 - - [18/Jan/2020 23:54:52] \"OPTIONS /getUser HTTP/1.1\" 200 -\n",
      "127.0.0.1 - - [18/Jan/2020 23:54:53] \"POST /getUser HTTP/1.1\" 200 -\n",
      "127.0.0.1 - - [18/Jan/2020 23:54:53] \"POST /getUser HTTP/1.1\" 200 -\n"
     ]
    },
    {
     "name": "stdout",
     "output_type": "stream",
     "text": [
      "Likitha\n",
      "Likitha\n"
     ]
    },
    {
     "name": "stderr",
     "output_type": "stream",
     "text": [
      "127.0.0.1 - - [18/Jan/2020 23:55:02] \"OPTIONS /getUser HTTP/1.1\" 200 -\n",
      "127.0.0.1 - - [18/Jan/2020 23:55:02] \"OPTIONS /getUser HTTP/1.1\" 200 -\n",
      "127.0.0.1 - - [18/Jan/2020 23:55:02] \"POST /getUser HTTP/1.1\" 200 -\n",
      "127.0.0.1 - - [18/Jan/2020 23:55:02] \"POST /getUser HTTP/1.1\" 200 -\n"
     ]
    },
    {
     "name": "stdout",
     "output_type": "stream",
     "text": [
      "Likitha\n",
      "Likitha\n"
     ]
    },
    {
     "name": "stderr",
     "output_type": "stream",
     "text": [
      "127.0.0.1 - - [18/Jan/2020 23:55:33] \"OPTIONS /getUser HTTP/1.1\" 200 -\n",
      "127.0.0.1 - - [18/Jan/2020 23:55:33] \"OPTIONS /getUser HTTP/1.1\" 200 -\n",
      "127.0.0.1 - - [18/Jan/2020 23:55:33] \"POST /getUser HTTP/1.1\" 200 -\n",
      "127.0.0.1 - - [18/Jan/2020 23:55:33] \"POST /getUser HTTP/1.1\" 200 -\n"
     ]
    },
    {
     "name": "stdout",
     "output_type": "stream",
     "text": [
      "Likitha\n",
      "Likitha\n"
     ]
    },
    {
     "name": "stderr",
     "output_type": "stream",
     "text": [
      "127.0.0.1 - - [18/Jan/2020 23:55:43] \"OPTIONS /getUser HTTP/1.1\" 200 -\n",
      "127.0.0.1 - - [18/Jan/2020 23:55:43] \"POST /getUser HTTP/1.1\" 200 -\n"
     ]
    },
    {
     "name": "stdout",
     "output_type": "stream",
     "text": [
      "Likitha\n"
     ]
    },
    {
     "name": "stderr",
     "output_type": "stream",
     "text": [
      "127.0.0.1 - - [18/Jan/2020 23:56:04] \"OPTIONS /getUser HTTP/1.1\" 200 -\n",
      "127.0.0.1 - - [18/Jan/2020 23:56:04] \"OPTIONS /getUser HTTP/1.1\" 200 -\n",
      "127.0.0.1 - - [18/Jan/2020 23:56:04] \"POST /getUser HTTP/1.1\" 200 -\n",
      "127.0.0.1 - - [18/Jan/2020 23:56:04] \"POST /getUser HTTP/1.1\" 200 -\n"
     ]
    },
    {
     "name": "stdout",
     "output_type": "stream",
     "text": [
      "Likitha\n",
      "Likitha\n"
     ]
    },
    {
     "name": "stderr",
     "output_type": "stream",
     "text": [
      "127.0.0.1 - - [18/Jan/2020 23:56:13] \"OPTIONS /getUser HTTP/1.1\" 200 -\n",
      "127.0.0.1 - - [18/Jan/2020 23:56:13] \"OPTIONS /getUser HTTP/1.1\" 200 -\n",
      "127.0.0.1 - - [18/Jan/2020 23:56:13] \"POST /getUser HTTP/1.1\" 200 -\n",
      "127.0.0.1 - - [18/Jan/2020 23:56:13] \"POST /getUser HTTP/1.1\" 200 -\n"
     ]
    },
    {
     "name": "stdout",
     "output_type": "stream",
     "text": [
      "Likitha\n",
      "Likitha\n"
     ]
    },
    {
     "name": "stderr",
     "output_type": "stream",
     "text": [
      "127.0.0.1 - - [18/Jan/2020 23:56:19] \"OPTIONS /getUser HTTP/1.1\" 200 -\n",
      "127.0.0.1 - - [18/Jan/2020 23:56:19] \"OPTIONS /getUser HTTP/1.1\" 200 -\n",
      "127.0.0.1 - - [18/Jan/2020 23:56:19] \"POST /getUser HTTP/1.1\" 200 -\n",
      "127.0.0.1 - - [18/Jan/2020 23:56:19] \"POST /getUser HTTP/1.1\" 200 -\n"
     ]
    },
    {
     "name": "stdout",
     "output_type": "stream",
     "text": [
      "Likitha\n",
      "Likitha\n"
     ]
    },
    {
     "name": "stderr",
     "output_type": "stream",
     "text": [
      "127.0.0.1 - - [18/Jan/2020 23:56:26] \"OPTIONS /getUser HTTP/1.1\" 200 -\n",
      "127.0.0.1 - - [18/Jan/2020 23:56:26] \"OPTIONS /getUser HTTP/1.1\" 200 -\n",
      "127.0.0.1 - - [18/Jan/2020 23:56:26] \"POST /getUser HTTP/1.1\" 200 -\n",
      "127.0.0.1 - - [18/Jan/2020 23:56:26] \"POST /getUser HTTP/1.1\" 200 -\n"
     ]
    },
    {
     "name": "stdout",
     "output_type": "stream",
     "text": [
      "Likitha\n",
      "Likitha\n"
     ]
    },
    {
     "name": "stderr",
     "output_type": "stream",
     "text": [
      "127.0.0.1 - - [18/Jan/2020 23:56:37] \"OPTIONS /getUser HTTP/1.1\" 200 -\n",
      "127.0.0.1 - - [18/Jan/2020 23:56:37] \"POST /getUser HTTP/1.1\" 200 -\n"
     ]
    },
    {
     "name": "stdout",
     "output_type": "stream",
     "text": [
      "Likitha\n"
     ]
    },
    {
     "name": "stderr",
     "output_type": "stream",
     "text": [
      "127.0.0.1 - - [19/Jan/2020 00:03:02] \"OPTIONS /getUser HTTP/1.1\" 200 -\n",
      "127.0.0.1 - - [19/Jan/2020 00:03:02] \"OPTIONS /getUser HTTP/1.1\" 200 -\n",
      "127.0.0.1 - - [19/Jan/2020 00:03:02] \"POST /getUser HTTP/1.1\" 200 -\n",
      "127.0.0.1 - - [19/Jan/2020 00:03:02] \"POST /getUser HTTP/1.1\" 200 -\n"
     ]
    },
    {
     "name": "stdout",
     "output_type": "stream",
     "text": [
      "Likitha\n",
      "Likitha\n"
     ]
    },
    {
     "name": "stderr",
     "output_type": "stream",
     "text": [
      "127.0.0.1 - - [19/Jan/2020 00:03:07] \"OPTIONS /getUser HTTP/1.1\" 200 -\n",
      "127.0.0.1 - - [19/Jan/2020 00:03:07] \"OPTIONS /getUser HTTP/1.1\" 200 -\n",
      "127.0.0.1 - - [19/Jan/2020 00:03:08] \"POST /getUser HTTP/1.1\" 200 -\n",
      "127.0.0.1 - - [19/Jan/2020 00:03:08] \"POST /getUser HTTP/1.1\" 200 -\n"
     ]
    },
    {
     "name": "stdout",
     "output_type": "stream",
     "text": [
      "Likitha\n",
      "Likitha\n"
     ]
    },
    {
     "name": "stderr",
     "output_type": "stream",
     "text": [
      "127.0.0.1 - - [19/Jan/2020 00:03:23] \"OPTIONS /getUser HTTP/1.1\" 200 -\n",
      "127.0.0.1 - - [19/Jan/2020 00:03:23] \"POST /getUser HTTP/1.1\" 200 -\n"
     ]
    },
    {
     "name": "stdout",
     "output_type": "stream",
     "text": [
      "Likitha\n"
     ]
    },
    {
     "name": "stderr",
     "output_type": "stream",
     "text": [
      "127.0.0.1 - - [19/Jan/2020 00:04:28] \"OPTIONS /getUser HTTP/1.1\" 200 -\n",
      "127.0.0.1 - - [19/Jan/2020 00:04:28] \"OPTIONS /getUser HTTP/1.1\" 200 -\n",
      "127.0.0.1 - - [19/Jan/2020 00:04:28] \"POST /getUser HTTP/1.1\" 200 -\n",
      "127.0.0.1 - - [19/Jan/2020 00:04:28] \"POST /getUser HTTP/1.1\" 200 -\n"
     ]
    },
    {
     "name": "stdout",
     "output_type": "stream",
     "text": [
      "Likitha\n",
      "Likitha\n"
     ]
    },
    {
     "name": "stderr",
     "output_type": "stream",
     "text": [
      "127.0.0.1 - - [19/Jan/2020 00:04:36] \"GET /getMetric HTTP/1.1\" 200 -\n",
      "127.0.0.1 - - [19/Jan/2020 00:05:32] \"GET /getAllUsers HTTP/1.1\" 200 -\n",
      "127.0.0.1 - - [19/Jan/2020 00:05:35] \"GET /getAllUsers HTTP/1.1\" 200 -\n",
      "127.0.0.1 - - [19/Jan/2020 00:05:37] \"OPTIONS /getUser HTTP/1.1\" 200 -\n",
      "127.0.0.1 - - [19/Jan/2020 00:05:37] \"POST /getUser HTTP/1.1\" 400 -\n"
     ]
    },
    {
     "name": "stdout",
     "output_type": "stream",
     "text": [
      "Keerthana\n"
     ]
    },
    {
     "name": "stderr",
     "output_type": "stream",
     "text": [
      "127.0.0.1 - - [19/Jan/2020 00:05:41] \"POST /getUser HTTP/1.1\" 400 -\n",
      "127.0.0.1 - - [19/Jan/2020 00:05:41] \"POST /getUser HTTP/1.1\" 400 -\n"
     ]
    },
    {
     "name": "stdout",
     "output_type": "stream",
     "text": [
      "Keerthana\n",
      "Keerthana\n"
     ]
    },
    {
     "name": "stderr",
     "output_type": "stream",
     "text": [
      "127.0.0.1 - - [19/Jan/2020 00:06:12] \"OPTIONS /getUser HTTP/1.1\" 200 -\n",
      "127.0.0.1 - - [19/Jan/2020 00:06:12] \"OPTIONS /getUser HTTP/1.1\" 200 -\n",
      "127.0.0.1 - - [19/Jan/2020 00:06:12] \"POST /getUser HTTP/1.1\" 200 -\n",
      "127.0.0.1 - - [19/Jan/2020 00:06:12] \"POST /getUser HTTP/1.1\" 200 -\n"
     ]
    },
    {
     "name": "stdout",
     "output_type": "stream",
     "text": [
      "Keerthana\n",
      "Keerthana\n"
     ]
    }
   ],
   "source": [
    "if __name__ == '__main__':\n",
    "   app.run(port=5005)"
   ]
  }
 ],
 "metadata": {
  "kernelspec": {
   "display_name": "Python 2",
   "language": "python",
   "name": "python2"
  },
  "language_info": {
   "codemirror_mode": {
    "name": "ipython",
    "version": 2
   },
   "file_extension": ".py",
   "mimetype": "text/x-python",
   "name": "python",
   "nbconvert_exporter": "python",
   "pygments_lexer": "ipython2",
   "version": "2.7.15"
  }
 },
 "nbformat": 4,
 "nbformat_minor": 2
}
